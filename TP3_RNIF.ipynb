{
 "cells": [
  {
   "cell_type": "markdown",
   "id": "35fd90b7-0a70-4ee5-8eb7-e1bd9c7b9fef",
   "metadata": {},
   "source": [
    "# Caso de estudio: Reconstrucción del campo de flujo en una cavidad cuadrada\n",
    "\n",
    "**Profesores**: Dr. Ing. Benjamin A. TOURN - Ing. Carlos G. MASSOBRIO\n",
    "\n",
    "**Cohorte**: B32025\n",
    "\n",
    "**Grupo**: N°2\n",
    "\n",
    "**Alumno**: Maximiliano Torti"
   ]
  },
  {
   "cell_type": "markdown",
   "id": "e4a593a8-97a1-40c3-8833-962bef3ab5af",
   "metadata": {},
   "source": [
    "## EDP"
   ]
  },
  {
   "cell_type": "markdown",
   "id": "25c35329-07f5-4ca4-b265-10bafd0bdda2",
   "metadata": {},
   "source": [
    "**Ecuaciones de Navier-Stokes incompresibles**\n",
    "\n",
    "$$(\\mathbf{u}\\cdot\\nabla)\\mathbf{u} = -\\nabla p + 1/R_e \\nabla^2 \\mathbf{u}, \\text{ en } \\Omega $$\n",
    "$$\\nabla \\mathbf{u} = 0, \\text{ en } \\Omega $$"
   ]
  },
  {
   "cell_type": "markdown",
   "id": "1b55b7a2-718f-425f-984f-0067dc566a4f",
   "metadata": {},
   "source": [
    "## TP N°3: Estrategias de muestreo de puntos de colocación"
   ]
  },
  {
   "cell_type": "code",
   "execution_count": 1,
   "id": "3edddea8-6e34-4745-a9e0-d0ba55dcd80e",
   "metadata": {},
   "outputs": [],
   "source": [
    "import scipy.io\n",
    "import numpy as np\n",
    "import matplotlib.pyplot as plt\n",
    "import random\n",
    "from matplotlib import cm\n",
    "from sklearn.metrics import mean_squared_error\n",
    "import torch\n",
    "import torch.nn as nn\n",
    "from tqdm.notebook import tqdm\n",
    "from pyDOE import lhs"
   ]
  },
  {
   "cell_type": "code",
   "execution_count": 2,
   "id": "b6fa8638-d16d-4bb8-a8da-687848aa1785",
   "metadata": {},
   "outputs": [],
   "source": [
    "pressure_raw_data = scipy.io.loadmat('./Re-100/pressure.mat')\n",
    "velocity_raw_data = scipy.io.loadmat('./Re-100/velocity.mat')"
   ]
  },
  {
   "cell_type": "code",
   "execution_count": 3,
   "id": "838d7243-99f0-47ac-b340-88ad5d11aafb",
   "metadata": {},
   "outputs": [],
   "source": [
    "def get_ds_data(pressure_ds, velocity_ds, n):\n",
    "    idxs = [random.randrange(0, len(pressure_raw_data['x'][0])) for _ in range(n)]\n",
    "    xy = []\n",
    "    labels = []\n",
    "    for idx in idxs:\n",
    "        assert pressure_ds['x'][0][idx] == velocity_ds['x'][0][idx]\n",
    "        assert pressure_ds['y'][0][idx] == velocity_ds['y'][0][idx]\n",
    "        xy.append([pressure_ds['x'][0][idx], pressure_ds['y'][0][idx]])\n",
    "        labels.append([velocity_ds['u'][0][idx], velocity_ds['v'][0][idx], pressure_ds['p'][0][idx]])\n",
    "    return np.array(xy), np.array(labels)"
   ]
  },
  {
   "cell_type": "code",
   "execution_count": 4,
   "id": "9af35680-bb0d-46a9-bcc3-f6394e4eb1bc",
   "metadata": {},
   "outputs": [
    {
     "data": {
      "text/plain": [
       "device(type='cuda', index=0)"
      ]
     },
     "execution_count": 4,
     "metadata": {},
     "output_type": "execute_result"
    }
   ],
   "source": [
    "device = torch.device(\"cuda:0\" if torch.cuda.is_available() else \"cpu\")\n",
    "device"
   ]
  },
  {
   "cell_type": "code",
   "execution_count": 5,
   "id": "35d36c5d-801e-49c8-bdce-d89a3fdc457a",
   "metadata": {},
   "outputs": [],
   "source": [
    " class PINN_Module(nn.Module):\n",
    "\n",
    "    def __init__(self, model_parameters):\n",
    "        super(PINN_Module, self).__init__()\n",
    "        self.Reynolds = model_parameters[\"Reynolds\"]\n",
    "        self.InputDimensions = model_parameters[\"InputDimensions\"]\n",
    "        self.OutputDimensions = model_parameters[\"OutputDimensions\"]\n",
    "        self.NumberOfNeurons = model_parameters[\"NumberOfNeurons\"]\n",
    "        self.NumberOfHiddenLayers = model_parameters[\"NumberOfHiddenLayers\"]\n",
    "        self.ActivationFunction = model_parameters[\"ActivationFunction\"]\n",
    "        self.InputLayer = nn.Linear(self.InputDimensions, self.NumberOfNeurons)\n",
    "        self.HiddenLayers = nn.ModuleList(\n",
    "            [nn.Linear(self.NumberOfNeurons, self.NumberOfNeurons) for _ in range(self.NumberOfHiddenLayers - 1)])\n",
    "        self.OutputLayer = nn.Linear(self.NumberOfNeurons, self.OutputDimensions)\n",
    "        self.init_xavier()\n",
    "        \n",
    "    def init_xavier(self):\n",
    "        def init_weights(m):\n",
    "            if type(m) == nn.Linear and m.weight.requires_grad and m.bias.requires_grad:\n",
    "                g = nn.init.calculate_gain('tanh')\n",
    "                torch.nn.init.xavier_uniform_(m.weight, gain=g)\n",
    "                m.bias.data.fill_(0)\n",
    "        self.apply(init_weights)\n",
    "\n",
    "    def forward(self, x):\n",
    "        output = self.ActivationFunction(self.InputLayer(x))\n",
    "        for k, l in enumerate(self.HiddenLayers):\n",
    "            output = self.ActivationFunction(l(output))\n",
    "        output = self.OutputLayer(output)\n",
    "        return output\n",
    "\n",
    "    def pdeResidue(self, X, output):\n",
    "        # Separate output in u,v and p\n",
    "        u = output[:,0:1]\n",
    "        v = output[:,1:2]\n",
    "        p = output[:,2:3]\n",
    "        \n",
    "        # Compute the derivatives of the outputs u,v and p over the inputs (x,y) using AD mechanism:\n",
    "        diff_u = torch.autograd.grad(u, X, create_graph=True, grad_outputs=torch.ones_like(u))[0]\n",
    "        diff_v = torch.autograd.grad(v, X, create_graph=True, grad_outputs=torch.ones_like(v))[0]\n",
    "        diff_p = torch.autograd.grad(p, X, create_graph=True, grad_outputs=torch.ones_like(p))[0]\n",
    "        u_x, u_y = diff_u[:, 0:1], diff_u[:, 1:2]\n",
    "        v_x, v_y = diff_v[:, 0:1], diff_v[:, 1:2]\n",
    "        p_x, p_y = diff_p[:, 0:1], diff_p[:, 1:2]\n",
    "\n",
    "        # Compute the second derivative of the outputs u and v over the inputs (x,y) using AD mechanism:\n",
    "        u_xx = torch.autograd.grad(u_x, X, create_graph=True, grad_outputs=torch.ones_like(u_x))[0][:, 0:1]\n",
    "        u_yy = torch.autograd.grad(u_y, X, create_graph=True, grad_outputs=torch.ones_like(u_y))[0][:, 1:2]\n",
    "        v_xx = torch.autograd.grad(v_x, X, create_graph=True, grad_outputs=torch.ones_like(v_x))[0][:, 0:1]\n",
    "        v_yy = torch.autograd.grad(v_y, X, create_graph=True, grad_outputs=torch.ones_like(v_y))[0][:, 1:2]\n",
    "        \n",
    "        # Compute residues\n",
    "        residue_continuity = u_x + v_y\n",
    "        residue_momentum_x = u * u_x + v * u_y + p_x - (1/self.Reynolds) * (u_xx + u_yy)\n",
    "        residue_momentum_y = u * v_x + v * v_y + p_y - (1/self.Reynolds) * (v_xx + v_yy)\n",
    "        return residue_continuity, residue_momentum_x, residue_momentum_y\n",
    "\n",
    "    def bcUVResidue(self, X, output):\n",
    "        # Separate u and v from the output\n",
    "        u = output[:,0:1]\n",
    "        v = output[:,1:2]\n",
    "        # Calculate true bc values \n",
    "        u_bc = (X[:,1:2] == 1) * 1.0 # u = 1 only at upper y bound, else 0\n",
    "        residue_u = u - u_bc\n",
    "        residue_v = v # v = 0 on all border\n",
    "        return residue_u, residue_v\n",
    "\n",
    "    def bcPResidue(self, X, output):\n",
    "        # Separate p from the output\n",
    "        p = output[:,2:3]\n",
    "        residue_p = p # p = 0 on the origin\n",
    "        return residue_p"
   ]
  },
  {
   "cell_type": "code",
   "execution_count": 6,
   "id": "1e2ac072-d8c0-498d-8944-20a475f1a333",
   "metadata": {},
   "outputs": [],
   "source": [
    "# Shared model parameters\n",
    "model_parameters = {\n",
    "    \"Reynolds\": 100,\n",
    "    \"InputDimensions\": 2,\n",
    "    \"OutputDimensions\": 3,\n",
    "    \"NumberOfNeurons\": 100,\n",
    "    \"NumberOfHiddenLayers\": 4,\n",
    "    \"ActivationFunction\": nn.GELU()\n",
    "}\n",
    "n_datasets = [(1_000, 100), (10_000, 1_000), (50_000, 5_000)]\n",
    "epochs = 10_000\n",
    "lr = 1e-3\n",
    "\n",
    "# Shared ground truth\n",
    "xy_data_all = np.concatenate([pressure_raw_data['x'][0][:,np.newaxis], pressure_raw_data['y'][0][:,np.newaxis]], axis=1)\n",
    "labels_data_all = np.concatenate([velocity_raw_data['u'][0][:,np.newaxis],velocity_raw_data['v'][0][:,np.newaxis],\n",
    "                                 pressure_raw_data['p'][0][:,np.newaxis]], axis=1)\n",
    "\n",
    "xy_data_random, labels_data_random = get_ds_data(pressure_raw_data, velocity_raw_data, 10)\n",
    "X_data_random = torch.tensor(xy_data_random).float().to(device)\n",
    "Y_data_random = torch.tensor(labels_data_random).float().to(device)"
   ]
  },
  {
   "cell_type": "code",
   "execution_count": 7,
   "id": "947ba58c-55c5-47a4-b3ac-1186a372fd7e",
   "metadata": {},
   "outputs": [],
   "source": [
    "def train_step(model, loss_fn, X_pde, X_bc, X_bc_0, X_data, Y_data):\n",
    "    # PDE\n",
    "    output_pde = model(X_pde)\n",
    "    residue_continuity, residue_momentum_x, residue_momentum_y  = model.pdeResidue(X_pde, output_pde)\n",
    "    loss_pde_continuity = loss_fn(residue_continuity, torch.zeros_like(residue_continuity))\n",
    "    loss_pde_momentum_x = loss_fn(residue_momentum_x, torch.zeros_like(residue_momentum_x))\n",
    "    loss_pde_momentum_y = loss_fn(residue_momentum_y, torch.zeros_like(residue_momentum_y))\n",
    "    loss_pde = (loss_pde_continuity + loss_pde_momentum_x + loss_pde_momentum_y) / 3\n",
    "    \n",
    "    # BC\n",
    "    output_bc = model(X_bc)\n",
    "    residue_u, residue_v = model.bcUVResidue(X_bc, output_bc)\n",
    "    loss_bc_u = loss_fn(residue_u, torch.zeros_like(residue_u))\n",
    "    loss_bc_v = loss_fn(residue_v, torch.zeros_like(residue_v))\n",
    "    output_bc_0 = model(X_bc_0)\n",
    "    residue_p = model.bcPResidue(X_bc_0, output_bc_0)\n",
    "    loss_bc_p = loss_fn(residue_p, torch.zeros_like(residue_p))\n",
    "    loss_bc = loss_bc_u * 10 + loss_bc_v * 10 + loss_bc_p * 100\n",
    "    \n",
    "    #Loss data\n",
    "    y_hat_data = model(X_data)\n",
    "    loss_data = loss_fn(y_hat_data, Y_data)\n",
    "    \n",
    "    return loss_pde, loss_bc, loss_data"
   ]
  },
  {
   "cell_type": "markdown",
   "id": "194c7a2b-e7fa-47e2-b0ee-ddb333246d49",
   "metadata": {},
   "source": [
    "### Muestreo aleatorio uniforme"
   ]
  },
  {
   "cell_type": "code",
   "execution_count": 8,
   "id": "62230da9-f701-4731-a5ac-b1761341da58",
   "metadata": {},
   "outputs": [],
   "source": [
    "def get_xy_pde_random(x_bounds, y_bounds, n):\n",
    "    x = np.random.uniform(np.nextafter(x_bounds[0], x_bounds[1]), x_bounds[1], n)\n",
    "    y = np.random.uniform(np.nextafter(y_bounds[0], y_bounds[1]), y_bounds[1], n)\n",
    "    return np.array([[x[i], y[i]] for i in range(n)])"
   ]
  },
  {
   "cell_type": "code",
   "execution_count": 9,
   "id": "9925e56f-4920-4e88-8897-d662aaf2c621",
   "metadata": {
    "scrolled": true
   },
   "outputs": [],
   "source": [
    "def get_xy_bc_random(x_bounds, y_bounds, n):\n",
    "    xy = []\n",
    "    for i in range(n):    \n",
    "        side = random.choice(['top', 'right', 'bottom', 'left'])\n",
    "        if side == 'top':\n",
    "            xy.append([x_bounds[1], np.random.uniform(y_bounds[0], y_bounds[1], 1)[0]])\n",
    "        elif side == 'right':\n",
    "            xy.append([np.random.uniform(x_bounds[0], x_bounds[1], 1)[0], y_bounds[1]])\n",
    "        elif side == 'bottom':\n",
    "            xy.append([x_bounds[0], np.random.uniform(y_bounds[0], y_bounds[1], 1)[0]])\n",
    "        else:  # side == 'left'\n",
    "            xy.append([np.random.uniform(x_bounds[0], x_bounds[1], 1)[0], y_bounds[0]])\n",
    "    return np.array(xy)"
   ]
  },
  {
   "cell_type": "code",
   "execution_count": 46,
   "id": "1c002745-2395-4548-a0c3-2384f91f8de6",
   "metadata": {},
   "outputs": [
    {
     "name": "stdout",
     "output_type": "stream",
     "text": [
      "Random Sample Dataset Train\n",
      "------------------------------------------------------------\n",
      "Npde = 1000 | Nbc = 100\n"
     ]
    },
    {
     "data": {
      "application/vnd.jupyter.widget-view+json": {
       "model_id": "4e0e84c9d3674d42a695d5394098fb33",
       "version_major": 2,
       "version_minor": 0
      },
      "text/plain": [
       "  0%|          | 0/10000 [00:00<?, ?it/s]"
      ]
     },
     "metadata": {},
     "output_type": "display_data"
    },
    {
     "name": "stdout",
     "output_type": "stream",
     "text": [
      "Epoch 500/10000 - Loss Overall: 1.5610e-01, PDE: 6.4406e-03, BC: 1.3110e-01, Data: 1.8560e-02\n",
      "Epoch 1000/10000 - Loss Overall: 1.2136e-01, PDE: 6.8582e-03, BC: 1.0141e-01, Data: 1.3091e-02\n",
      "Epoch 1500/10000 - Loss Overall: 1.0747e-01, PDE: 1.2274e-02, BC: 8.3569e-02, Data: 1.1622e-02\n",
      "Epoch 2000/10000 - Loss Overall: 9.6922e-02, PDE: 1.4726e-02, BC: 7.1212e-02, Data: 1.0984e-02\n",
      "Epoch 2500/10000 - Loss Overall: 1.2912e-01, PDE: 1.7962e-02, BC: 1.0066e-01, Data: 1.0497e-02\n",
      "Epoch 3000/10000 - Loss Overall: 8.0673e-02, PDE: 1.6236e-02, BC: 5.5411e-02, Data: 9.0258e-03\n",
      "Epoch 3500/10000 - Loss Overall: 6.2019e-02, PDE: 1.7023e-02, BC: 3.7469e-02, Data: 7.5264e-03\n",
      "Epoch 4000/10000 - Loss Overall: 4.9527e-02, PDE: 1.4303e-02, BC: 2.8685e-02, Data: 6.5394e-03\n",
      "Epoch 4500/10000 - Loss Overall: 4.0786e-02, PDE: 1.2841e-02, BC: 2.2373e-02, Data: 5.5716e-03\n",
      "Epoch 5000/10000 - Loss Overall: 3.1506e-02, PDE: 1.0425e-02, BC: 1.7078e-02, Data: 4.0035e-03\n",
      "Epoch 5500/10000 - Loss Overall: 2.3634e-02, PDE: 8.8088e-03, BC: 1.2012e-02, Data: 2.8131e-03\n",
      "Epoch 6000/10000 - Loss Overall: 1.4199e-02, PDE: 6.3154e-03, BC: 5.8925e-03, Data: 1.9914e-03\n",
      "Epoch 6500/10000 - Loss Overall: 1.1246e-02, PDE: 4.6847e-03, BC: 5.0256e-03, Data: 1.5360e-03\n",
      "Epoch 7000/10000 - Loss Overall: 8.5911e-03, PDE: 3.6831e-03, BC: 3.7424e-03, Data: 1.1656e-03\n",
      "Epoch 7500/10000 - Loss Overall: 1.9071e-02, PDE: 7.3200e-03, BC: 1.0697e-02, Data: 1.0534e-03\n",
      "Epoch 8000/10000 - Loss Overall: 7.8348e-03, PDE: 2.9551e-03, BC: 4.0760e-03, Data: 8.0372e-04\n",
      "Epoch 8500/10000 - Loss Overall: 4.1176e-03, PDE: 1.8387e-03, BC: 1.5611e-03, Data: 7.1779e-04\n",
      "Epoch 9000/10000 - Loss Overall: 1.1163e-02, PDE: 2.2923e-03, BC: 8.2212e-03, Data: 6.4940e-04\n",
      "Epoch 9500/10000 - Loss Overall: 3.6815e-03, PDE: 1.4301e-03, BC: 1.7318e-03, Data: 5.1956e-04\n",
      "Epoch 10000/10000 - Loss Overall: 4.0672e-03, PDE: 1.7693e-03, BC: 1.7657e-03, Data: 5.3224e-04\n",
      "Error on ground-truth mse_u: 0.0007034408321031098 | mse_v: 0.0009415007156949244 | mse_p: 0.0044436533494317055\n",
      "------------------------------------------------------------\n",
      "Npde = 10000 | Nbc = 1000\n"
     ]
    },
    {
     "data": {
      "application/vnd.jupyter.widget-view+json": {
       "model_id": "8064759d31954fc8842ca9319740a7b5",
       "version_major": 2,
       "version_minor": 0
      },
      "text/plain": [
       "  0%|          | 0/10000 [00:00<?, ?it/s]"
      ]
     },
     "metadata": {},
     "output_type": "display_data"
    },
    {
     "name": "stdout",
     "output_type": "stream",
     "text": [
      "Epoch 500/10000 - Loss Overall: 1.7663e-01, PDE: 7.9538e-03, BC: 1.5298e-01, Data: 1.5699e-02\n",
      "Epoch 1000/10000 - Loss Overall: 1.3009e-01, PDE: 1.1550e-02, BC: 1.0773e-01, Data: 1.0809e-02\n",
      "Epoch 1500/10000 - Loss Overall: 1.1904e-01, PDE: 1.5539e-02, BC: 9.4142e-02, Data: 9.3536e-03\n",
      "Epoch 2000/10000 - Loss Overall: 1.0235e-01, PDE: 1.6199e-02, BC: 7.8365e-02, Data: 7.7841e-03\n",
      "Epoch 2500/10000 - Loss Overall: 8.5477e-02, PDE: 1.3595e-02, BC: 6.6365e-02, Data: 5.5160e-03\n",
      "Epoch 3000/10000 - Loss Overall: 7.8393e-02, PDE: 1.3800e-02, BC: 6.0370e-02, Data: 4.2226e-03\n",
      "Epoch 3500/10000 - Loss Overall: 6.9472e-02, PDE: 1.2917e-02, BC: 5.3422e-02, Data: 3.1321e-03\n",
      "Epoch 4000/10000 - Loss Overall: 6.2716e-02, PDE: 1.1918e-02, BC: 4.8609e-02, Data: 2.1888e-03\n",
      "Epoch 4500/10000 - Loss Overall: 5.8089e-02, PDE: 1.1750e-02, BC: 4.4833e-02, Data: 1.5058e-03\n",
      "Epoch 5000/10000 - Loss Overall: 5.2075e-02, PDE: 8.6507e-03, BC: 4.2467e-02, Data: 9.5744e-04\n",
      "Epoch 5500/10000 - Loss Overall: 4.5879e-02, PDE: 7.6660e-03, BC: 3.7765e-02, Data: 4.4845e-04\n",
      "Epoch 6000/10000 - Loss Overall: 3.9691e-02, PDE: 6.8919e-03, BC: 3.2507e-02, Data: 2.9189e-04\n",
      "Epoch 6500/10000 - Loss Overall: 3.6673e-02, PDE: 6.3231e-03, BC: 3.0156e-02, Data: 1.9375e-04\n",
      "Epoch 7000/10000 - Loss Overall: 3.4793e-02, PDE: 5.6769e-03, BC: 2.8929e-02, Data: 1.8703e-04\n",
      "Epoch 7500/10000 - Loss Overall: 3.3575e-02, PDE: 5.4962e-03, BC: 2.7995e-02, Data: 8.3764e-05\n",
      "Epoch 8000/10000 - Loss Overall: 2.9246e-02, PDE: 4.4541e-03, BC: 2.4717e-02, Data: 7.5048e-05\n",
      "Epoch 8500/10000 - Loss Overall: 2.8298e-02, PDE: 4.6024e-03, BC: 2.3623e-02, Data: 7.2318e-05\n",
      "Epoch 9000/10000 - Loss Overall: 2.7486e-02, PDE: 3.4651e-03, BC: 2.3958e-02, Data: 6.2792e-05\n",
      "Epoch 9500/10000 - Loss Overall: 2.6649e-02, PDE: 4.2868e-03, BC: 2.2268e-02, Data: 9.4157e-05\n",
      "Epoch 10000/10000 - Loss Overall: 2.4825e-02, PDE: 3.1533e-03, BC: 2.1629e-02, Data: 4.2512e-05\n",
      "Error on ground-truth mse_u: 0.0002541477257039839 | mse_v: 0.00017809292523933047 | mse_p: 0.002544555939083318\n",
      "------------------------------------------------------------\n",
      "Npde = 50000 | Nbc = 5000\n"
     ]
    },
    {
     "data": {
      "application/vnd.jupyter.widget-view+json": {
       "model_id": "3ec708682e594509ba813b50764c5fbb",
       "version_major": 2,
       "version_minor": 0
      },
      "text/plain": [
       "  0%|          | 0/10000 [00:00<?, ?it/s]"
      ]
     },
     "metadata": {},
     "output_type": "display_data"
    },
    {
     "name": "stdout",
     "output_type": "stream",
     "text": [
      "Epoch 500/10000 - Loss Overall: 1.7457e-01, PDE: 8.3451e-03, BC: 1.5006e-01, Data: 1.6163e-02\n",
      "Epoch 1000/10000 - Loss Overall: 1.2664e-01, PDE: 1.2451e-02, BC: 1.0366e-01, Data: 1.0527e-02\n",
      "Epoch 1500/10000 - Loss Overall: 1.0609e-01, PDE: 1.8069e-02, BC: 7.9421e-02, Data: 8.5973e-03\n",
      "Epoch 2000/10000 - Loss Overall: 9.0658e-02, PDE: 1.4865e-02, BC: 6.8598e-02, Data: 7.1953e-03\n",
      "Epoch 2500/10000 - Loss Overall: 8.1685e-02, PDE: 1.4007e-02, BC: 6.2085e-02, Data: 5.5932e-03\n",
      "Epoch 3000/10000 - Loss Overall: 7.2677e-02, PDE: 1.3416e-02, BC: 5.5048e-02, Data: 4.2129e-03\n",
      "Epoch 3500/10000 - Loss Overall: 6.4167e-02, PDE: 1.2015e-02, BC: 4.8864e-02, Data: 3.2880e-03\n",
      "Epoch 4000/10000 - Loss Overall: 5.7049e-02, PDE: 1.1167e-02, BC: 4.3414e-02, Data: 2.4678e-03\n",
      "Epoch 4500/10000 - Loss Overall: 5.8219e-02, PDE: 9.7548e-03, BC: 4.6845e-02, Data: 1.6184e-03\n",
      "Epoch 5000/10000 - Loss Overall: 4.6110e-02, PDE: 9.0646e-03, BC: 3.5781e-02, Data: 1.2643e-03\n",
      "Epoch 5500/10000 - Loss Overall: 4.5325e-02, PDE: 7.2720e-03, BC: 3.7259e-02, Data: 7.9411e-04\n",
      "Epoch 6000/10000 - Loss Overall: 4.3664e-02, PDE: 8.5011e-03, BC: 3.4398e-02, Data: 7.6460e-04\n",
      "Epoch 6500/10000 - Loss Overall: 3.5589e-02, PDE: 5.9138e-03, BC: 2.9358e-02, Data: 3.1711e-04\n",
      "Epoch 7000/10000 - Loss Overall: 3.4064e-02, PDE: 5.9756e-03, BC: 2.7816e-02, Data: 2.7247e-04\n",
      "Epoch 7500/10000 - Loss Overall: 3.4249e-02, PDE: 4.5172e-03, BC: 2.9595e-02, Data: 1.3700e-04\n",
      "Epoch 8000/10000 - Loss Overall: 2.7260e-02, PDE: 4.5737e-03, BC: 2.2535e-02, Data: 1.5112e-04\n",
      "Epoch 8500/10000 - Loss Overall: 2.8772e-02, PDE: 3.8663e-03, BC: 2.4816e-02, Data: 9.0323e-05\n",
      "Epoch 9000/10000 - Loss Overall: 3.1082e-02, PDE: 4.8465e-03, BC: 2.5976e-02, Data: 2.5974e-04\n",
      "Epoch 9500/10000 - Loss Overall: 2.5081e-02, PDE: 3.7640e-03, BC: 2.1229e-02, Data: 8.8022e-05\n",
      "Epoch 10000/10000 - Loss Overall: 2.4029e-02, PDE: 3.2954e-03, BC: 2.0677e-02, Data: 5.6817e-05\n",
      "Error on ground-truth mse_u: 0.00035113264170926096 | mse_v: 0.00024787903929714974 | mse_p: 0.0027996094639894708\n"
     ]
    }
   ],
   "source": [
    "rand_mse_error = []\n",
    "\n",
    "print(\"Random Sample Dataset Train\")\n",
    "for n_pde, n_bc in n_datasets:\n",
    "    # Init\n",
    "    model = PINN_Module(model_parameters).to(device)\n",
    "    loss_fn = nn.MSELoss()\n",
    "    optimizer = torch.optim.Adam(model.parameters(), lr=lr)\n",
    "    best_val_loss = float('inf')\n",
    "    best_model_state = None\n",
    "\n",
    "    xy_pde_random = get_xy_pde_random([0, 1], [0, 1], n_pde)\n",
    "    X_pde = torch.tensor(xy_pde_random, requires_grad = True).float().to(device)\n",
    "    xy_bc_random = get_xy_bc_random([0, 1], [0, 1], n_bc)\n",
    "    X_bc = torch.tensor(xy_bc_random).float().to(device)\n",
    "    X_bc_0 = torch.tensor([[0, 0]]).float().to(device)\n",
    "\n",
    "    # Train\n",
    "    print(\"------------------------------------------------------------\")\n",
    "    print(f\"Npde = {n_pde} | Nbc = {n_bc}\")\n",
    "    for epoch in tqdm(range(epochs)):\n",
    "        optimizer.zero_grad()\n",
    "        loss_pde, loss_bc, loss_data = train_step(model, loss_fn, X_pde, X_bc, X_bc_0, X_data_random, Y_data_random)\n",
    "        loss_overall = loss_pde + loss_bc + loss_data\n",
    "        loss_overall.backward()\n",
    "        optimizer.step()\n",
    "\n",
    "        # Checkpoint best model\n",
    "        if loss_overall.item() < best_val_loss:\n",
    "            best_val_loss = loss_overall.item()\n",
    "            best_model_state = model.state_dict()\n",
    "\n",
    "        if (epoch+1) % (epochs / 20) == 0:\n",
    "            tqdm.write(f\"Epoch {epoch+1}/{epochs} - Loss Overall: {loss_overall.item():.4e}, \"\n",
    "                       f\"PDE: {loss_pde.item():.4e}, BC: {loss_bc.item():.4e}, Data: {loss_data.item():.4e}\")\n",
    "\n",
    "    # Calculate error\n",
    "    model.load_state_dict(best_model_state)\n",
    "    model.train(False)\n",
    "    with torch.no_grad():\n",
    "        X_data = torch.tensor(xy_data_all).float().to(device)\n",
    "        output_data = model(X_data).cpu().numpy()\n",
    "    mse_u = mean_squared_error(output_data[:,0], labels_data_all[:,0])\n",
    "    mse_v = mean_squared_error(output_data[:,1], labels_data_all[:,1])\n",
    "    mse_p = mean_squared_error(output_data[:,2], labels_data_all[:,2])\n",
    "    rand_mse_error.append({'mse_u': mse_u, 'mse_v': mse_v, 'mse_p': mse_p})\n",
    "    print(f\"Error on ground-truth mse_u: {mse_u} | mse_v: {mse_v} | mse_p: {mse_p}\")\n",
    "\n",
    "    # Cleanup\n",
    "    del(X_data)\n",
    "    del(output_data)\n",
    "    torch.cuda.empty_cache()"
   ]
  },
  {
   "cell_type": "markdown",
   "id": "55df5261-8b67-4b63-a18e-bf770ed8f46b",
   "metadata": {},
   "source": [
    "### Hipercubo Latino (LHS)"
   ]
  },
  {
   "cell_type": "code",
   "execution_count": 18,
   "id": "9bb66ffc-cbdc-4783-b6c4-ad4093cefc72",
   "metadata": {},
   "outputs": [],
   "source": [
    "def get_xy_pde_lhs(x_bounds, y_bounds, n):\n",
    "    x = x_bounds[0] + (x_bounds[1] - x_bounds[0])  * lhs(1, n)[:,0]\n",
    "    y = y_bounds[0] + (y_bounds[1] - y_bounds[0])  * lhs(1, n)[:,0]\n",
    "    return np.array([[x[i], y[i]] for i in range(n)])"
   ]
  },
  {
   "cell_type": "code",
   "execution_count": 19,
   "id": "031f9420-8919-41e0-9c5b-ac82221cba3b",
   "metadata": {},
   "outputs": [],
   "source": [
    "def get_xy_bc_lhs(x_bounds, y_bounds, n):\n",
    "    xy = []\n",
    "    for i in range(n):    \n",
    "        side = random.choice(['top', 'right', 'bottom', 'left'])\n",
    "        if side == 'top':\n",
    "            xy.append([x_bounds[1], y_bounds[0] + (y_bounds[1] - y_bounds[0])  * lhs(1, 1)[0,0]])\n",
    "        elif side == 'right':\n",
    "            xy.append([x_bounds[0] + (x_bounds[1] - x_bounds[0])  * lhs(1, 1)[0,0], y_bounds[1]])\n",
    "        elif side == 'bottom':\n",
    "            xy.append([x_bounds[0], y_bounds[0] + (y_bounds[1] - y_bounds[0])  * lhs(1, 1)[0,0]])\n",
    "        else:  # side == 'left'\n",
    "            xy.append([x_bounds[0] + (x_bounds[1] - x_bounds[0])  * lhs(1, 1)[0,0], y_bounds[0]])\n",
    "    return np.array(xy)"
   ]
  },
  {
   "cell_type": "code",
   "execution_count": 49,
   "id": "419e785d-24e4-4dae-9175-9135b367d081",
   "metadata": {},
   "outputs": [
    {
     "name": "stdout",
     "output_type": "stream",
     "text": [
      "Latin hypercube sampling Dataset Train\n",
      "------------------------------------------------------------\n",
      "Npde = 1000 | Nbc = 100\n"
     ]
    },
    {
     "data": {
      "application/vnd.jupyter.widget-view+json": {
       "model_id": "7536511735ed45ef8cbe3ccd11c3056d",
       "version_major": 2,
       "version_minor": 0
      },
      "text/plain": [
       "  0%|          | 0/10000 [00:00<?, ?it/s]"
      ]
     },
     "metadata": {},
     "output_type": "display_data"
    },
    {
     "name": "stdout",
     "output_type": "stream",
     "text": [
      "Epoch 500/10000 - Loss Overall: 1.4467e-01, PDE: 1.4322e-02, BC: 1.1545e-01, Data: 1.4894e-02\n",
      "Epoch 1000/10000 - Loss Overall: 7.5831e-02, PDE: 1.7931e-02, BC: 4.7101e-02, Data: 1.0798e-02\n",
      "Epoch 1500/10000 - Loss Overall: 5.3431e-02, PDE: 1.6085e-02, BC: 2.8731e-02, Data: 8.6141e-03\n",
      "Epoch 2000/10000 - Loss Overall: 4.4437e-02, PDE: 1.5717e-02, BC: 2.1068e-02, Data: 7.6514e-03\n",
      "Epoch 2500/10000 - Loss Overall: 3.7595e-02, PDE: 1.4141e-02, BC: 1.6594e-02, Data: 6.8603e-03\n",
      "Epoch 3000/10000 - Loss Overall: 3.5555e-02, PDE: 1.2778e-02, BC: 1.6660e-02, Data: 6.1166e-03\n",
      "Epoch 3500/10000 - Loss Overall: 3.1981e-02, PDE: 1.1429e-02, BC: 1.5267e-02, Data: 5.2857e-03\n",
      "Epoch 4000/10000 - Loss Overall: 2.5670e-02, PDE: 1.0211e-02, BC: 1.0903e-02, Data: 4.5568e-03\n",
      "Epoch 4500/10000 - Loss Overall: 2.9390e-02, PDE: 8.5096e-03, BC: 1.7506e-02, Data: 3.3737e-03\n",
      "Epoch 5000/10000 - Loss Overall: 1.9521e-02, PDE: 8.2267e-03, BC: 8.5023e-03, Data: 2.7924e-03\n",
      "Epoch 5500/10000 - Loss Overall: 1.7460e-02, PDE: 7.8160e-03, BC: 7.2498e-03, Data: 2.3939e-03\n",
      "Epoch 6000/10000 - Loss Overall: 1.4019e-02, PDE: 6.4436e-03, BC: 5.7646e-03, Data: 1.8103e-03\n",
      "Epoch 6500/10000 - Loss Overall: 1.1710e-02, PDE: 5.6245e-03, BC: 4.6524e-03, Data: 1.4330e-03\n",
      "Epoch 7000/10000 - Loss Overall: 1.0011e-02, PDE: 4.3861e-03, BC: 4.5772e-03, Data: 1.0472e-03\n",
      "Epoch 7500/10000 - Loss Overall: 8.0486e-03, PDE: 3.7580e-03, BC: 3.3872e-03, Data: 9.0331e-04\n",
      "Epoch 8000/10000 - Loss Overall: 7.7662e-03, PDE: 3.6208e-03, BC: 3.4840e-03, Data: 6.6138e-04\n",
      "Epoch 8500/10000 - Loss Overall: 6.3680e-03, PDE: 2.7704e-03, BC: 3.0236e-03, Data: 5.7387e-04\n",
      "Epoch 9000/10000 - Loss Overall: 9.3045e-03, PDE: 2.4628e-03, BC: 6.1698e-03, Data: 6.7192e-04\n",
      "Epoch 9500/10000 - Loss Overall: 8.3960e-03, PDE: 3.0740e-03, BC: 5.0227e-03, Data: 2.9928e-04\n",
      "Epoch 10000/10000 - Loss Overall: 3.3081e-03, PDE: 1.5915e-03, BC: 1.4188e-03, Data: 2.9773e-04\n",
      "Error on ground-truth mse_u: 0.000766755893604572 | mse_v: 0.0008100864693914424 | mse_p: 0.0041647309989875664\n",
      "------------------------------------------------------------\n",
      "Npde = 10000 | Nbc = 1000\n"
     ]
    },
    {
     "data": {
      "application/vnd.jupyter.widget-view+json": {
       "model_id": "aa22d6c2fe014b58b79188fb49e8f63f",
       "version_major": 2,
       "version_minor": 0
      },
      "text/plain": [
       "  0%|          | 0/10000 [00:00<?, ?it/s]"
      ]
     },
     "metadata": {},
     "output_type": "display_data"
    },
    {
     "name": "stdout",
     "output_type": "stream",
     "text": [
      "Epoch 500/10000 - Loss Overall: 1.9184e-01, PDE: 8.2400e-03, BC: 1.6706e-01, Data: 1.6543e-02\n",
      "Epoch 1000/10000 - Loss Overall: 2.5382e-01, PDE: 1.0864e-02, BC: 2.2692e-01, Data: 1.6037e-02\n",
      "Epoch 1500/10000 - Loss Overall: 1.1349e-01, PDE: 1.5767e-02, BC: 8.8069e-02, Data: 9.6565e-03\n",
      "Epoch 2000/10000 - Loss Overall: 9.9319e-02, PDE: 1.6011e-02, BC: 7.4634e-02, Data: 8.6743e-03\n",
      "Epoch 2500/10000 - Loss Overall: 9.1516e-02, PDE: 1.8839e-02, BC: 6.5752e-02, Data: 6.9252e-03\n",
      "Epoch 3000/10000 - Loss Overall: 1.1604e-01, PDE: 3.8890e-02, BC: 7.1890e-02, Data: 5.2586e-03\n",
      "Epoch 3500/10000 - Loss Overall: 6.9853e-02, PDE: 1.3726e-02, BC: 5.0780e-02, Data: 5.3461e-03\n",
      "Epoch 4000/10000 - Loss Overall: 6.6367e-02, PDE: 1.3862e-02, BC: 4.7812e-02, Data: 4.6937e-03\n",
      "Epoch 4500/10000 - Loss Overall: 6.0267e-02, PDE: 1.2250e-02, BC: 4.3754e-02, Data: 4.2631e-03\n",
      "Epoch 5000/10000 - Loss Overall: 5.9485e-02, PDE: 1.3011e-02, BC: 4.3090e-02, Data: 3.3833e-03\n",
      "Epoch 5500/10000 - Loss Overall: 5.2090e-02, PDE: 1.1581e-02, BC: 3.7755e-02, Data: 2.7542e-03\n",
      "Epoch 6000/10000 - Loss Overall: 4.8759e-02, PDE: 1.0511e-02, BC: 3.6122e-02, Data: 2.1266e-03\n",
      "Epoch 6500/10000 - Loss Overall: 4.2838e-02, PDE: 9.5155e-03, BC: 3.1744e-02, Data: 1.5789e-03\n",
      "Epoch 7000/10000 - Loss Overall: 4.3155e-02, PDE: 8.9895e-03, BC: 3.3059e-02, Data: 1.1064e-03\n",
      "Epoch 7500/10000 - Loss Overall: 3.6627e-02, PDE: 8.1504e-03, BC: 2.7964e-02, Data: 5.1281e-04\n",
      "Epoch 8000/10000 - Loss Overall: 3.3432e-02, PDE: 6.9612e-03, BC: 2.6098e-02, Data: 3.7318e-04\n",
      "Epoch 8500/10000 - Loss Overall: 2.8040e-02, PDE: 6.1011e-03, BC: 2.1727e-02, Data: 2.1180e-04\n",
      "Epoch 9000/10000 - Loss Overall: 2.9297e-02, PDE: 5.5821e-03, BC: 2.3557e-02, Data: 1.5771e-04\n",
      "Epoch 9500/10000 - Loss Overall: 2.6156e-02, PDE: 4.9619e-03, BC: 2.0970e-02, Data: 2.2433e-04\n",
      "Epoch 10000/10000 - Loss Overall: 2.3781e-02, PDE: 4.9368e-03, BC: 1.8733e-02, Data: 1.1160e-04\n",
      "Error on ground-truth mse_u: 0.00038114232795744435 | mse_v: 0.0003070607036329517 | mse_p: 0.003146197443907734\n",
      "------------------------------------------------------------\n",
      "Npde = 50000 | Nbc = 5000\n"
     ]
    },
    {
     "data": {
      "application/vnd.jupyter.widget-view+json": {
       "model_id": "4978572b1db0407b8c413396a65a943d",
       "version_major": 2,
       "version_minor": 0
      },
      "text/plain": [
       "  0%|          | 0/10000 [00:00<?, ?it/s]"
      ]
     },
     "metadata": {},
     "output_type": "display_data"
    },
    {
     "name": "stdout",
     "output_type": "stream",
     "text": [
      "Epoch 500/10000 - Loss Overall: 1.8232e-01, PDE: 7.6951e-03, BC: 1.5912e-01, Data: 1.5497e-02\n",
      "Epoch 1000/10000 - Loss Overall: 1.5008e-01, PDE: 9.4819e-03, BC: 1.2967e-01, Data: 1.0932e-02\n",
      "Epoch 1500/10000 - Loss Overall: 1.3604e-01, PDE: 1.3698e-02, BC: 1.1255e-01, Data: 9.7875e-03\n",
      "Epoch 2000/10000 - Loss Overall: 1.2401e-01, PDE: 1.5387e-02, BC: 9.9591e-02, Data: 9.0339e-03\n",
      "Epoch 2500/10000 - Loss Overall: 1.1074e-01, PDE: 1.7485e-02, BC: 8.5846e-02, Data: 7.4127e-03\n",
      "Epoch 3000/10000 - Loss Overall: 9.4806e-02, PDE: 1.3949e-02, BC: 7.5361e-02, Data: 5.4960e-03\n",
      "Epoch 3500/10000 - Loss Overall: 8.5272e-02, PDE: 1.3577e-02, BC: 6.7498e-02, Data: 4.1959e-03\n",
      "Epoch 4000/10000 - Loss Overall: 7.5390e-02, PDE: 1.2269e-02, BC: 6.0417e-02, Data: 2.7038e-03\n",
      "Epoch 4500/10000 - Loss Overall: 6.7747e-02, PDE: 1.1912e-02, BC: 5.4312e-02, Data: 1.5234e-03\n",
      "Epoch 5000/10000 - Loss Overall: 6.2966e-02, PDE: 1.0699e-02, BC: 5.1360e-02, Data: 9.0733e-04\n",
      "Epoch 5500/10000 - Loss Overall: 5.1903e-02, PDE: 8.1029e-03, BC: 4.3341e-02, Data: 4.5988e-04\n",
      "Epoch 6000/10000 - Loss Overall: 5.2918e-02, PDE: 6.7949e-03, BC: 4.5887e-02, Data: 2.3611e-04\n",
      "Epoch 6500/10000 - Loss Overall: 5.3969e-02, PDE: 7.8417e-03, BC: 4.5673e-02, Data: 4.5387e-04\n",
      "Epoch 7000/10000 - Loss Overall: 4.4849e-02, PDE: 5.6784e-03, BC: 3.8985e-02, Data: 1.8546e-04\n",
      "Epoch 7500/10000 - Loss Overall: 3.7410e-02, PDE: 4.8669e-03, BC: 3.2472e-02, Data: 7.1326e-05\n",
      "Epoch 8000/10000 - Loss Overall: 3.5595e-02, PDE: 4.0257e-03, BC: 3.1534e-02, Data: 3.5262e-05\n",
      "Epoch 8500/10000 - Loss Overall: 4.4189e-02, PDE: 4.6825e-03, BC: 3.9429e-02, Data: 7.7168e-05\n",
      "Epoch 9000/10000 - Loss Overall: 3.1630e-02, PDE: 3.5492e-03, BC: 2.8045e-02, Data: 3.5977e-05\n",
      "Epoch 9500/10000 - Loss Overall: 2.9812e-02, PDE: 3.8231e-03, BC: 2.5920e-02, Data: 6.8795e-05\n",
      "Epoch 10000/10000 - Loss Overall: 2.9878e-02, PDE: 3.8207e-03, BC: 2.6000e-02, Data: 5.6803e-05\n",
      "Error on ground-truth mse_u: 0.00011062070589112396 | mse_v: 8.645493235822263e-05 | mse_p: 0.0023502772157375255\n"
     ]
    }
   ],
   "source": [
    "lhs_mse_error = []\n",
    "\n",
    "print(\"Latin hypercube sampling Dataset Train\")\n",
    "for n_pde, n_bc in n_datasets:\n",
    "    # Init\n",
    "    model = PINN_Module(model_parameters).to(device)\n",
    "    loss_fn = nn.MSELoss()\n",
    "    optimizer = torch.optim.Adam(model.parameters(), lr=lr)\n",
    "    best_val_loss = float('inf')\n",
    "    best_model_state = None\n",
    "\n",
    "    xy_pde_lhs = get_xy_pde_lhs([0, 1], [0, 1], n_pde)\n",
    "    X_pde = torch.tensor(xy_pde_lhs, requires_grad = True).float().to(device)\n",
    "    xy_bc_lhs = get_xy_bc_lhs([0, 1], [0, 1], n_bc)\n",
    "    X_bc = torch.tensor(xy_bc_lhs).float().to(device)\n",
    "    X_bc_0 = torch.tensor([[0, 0]]).float().to(device)\n",
    "\n",
    "    # Train\n",
    "    print(\"------------------------------------------------------------\")\n",
    "    print(f\"Npde = {n_pde} | Nbc = {n_bc}\")\n",
    "    for epoch in tqdm(range(epochs)):\n",
    "        optimizer.zero_grad()\n",
    "        loss_pde, loss_bc, loss_data = train_step(model, loss_fn, X_pde, X_bc, X_bc_0, X_data_random, Y_data_random)\n",
    "        loss_overall = loss_pde + loss_bc + loss_data\n",
    "        loss_overall.backward()\n",
    "        optimizer.step()\n",
    "        # Checkpoint best model\n",
    "        if loss_overall.item() < best_val_loss:\n",
    "            best_val_loss = loss_overall.item()\n",
    "            best_model_state = model.state_dict()\n",
    "\n",
    "        if (epoch+1) % (epochs / 20) == 0:\n",
    "            tqdm.write(f\"Epoch {epoch+1}/{epochs} - Loss Overall: {loss_overall.item():.4e}, \"\n",
    "                       f\"PDE: {loss_pde.item():.4e}, BC: {loss_bc.item():.4e}, Data: {loss_data.item():.4e}\")\n",
    "\n",
    "    # Calculate error\n",
    "    model.load_state_dict(best_model_state)\n",
    "    model.train(False)\n",
    "    with torch.no_grad():\n",
    "        X_data = torch.tensor(xy_data_all).float().to(device)\n",
    "        output_data = model(X_data).cpu().numpy()\n",
    "    mse_u = mean_squared_error(output_data[:,0], labels_data_all[:,0])\n",
    "    mse_v = mean_squared_error(output_data[:,1], labels_data_all[:,1])\n",
    "    mse_p = mean_squared_error(output_data[:,2], labels_data_all[:,2])\n",
    "    lhs_mse_error.append({'mse_u': mse_u, 'mse_v': mse_v, 'mse_p': mse_p})\n",
    "    print(f\"Error on ground-truth mse_u: {mse_u} | mse_v: {mse_v} | mse_p: {mse_p}\")\n",
    "\n",
    "    # Cleanup\n",
    "    del(X_data)\n",
    "    del(output_data)\n",
    "    torch.cuda.empty_cache()"
   ]
  },
  {
   "cell_type": "markdown",
   "id": "9090c875-39af-48a5-81dc-1cbc035e4c19",
   "metadata": {},
   "source": [
    "### Muestreo adaptativo basado en residuos (RAD)"
   ]
  },
  {
   "cell_type": "code",
   "execution_count": 75,
   "id": "3b8c46b0-c15a-4901-83b2-45c2d0dfe95f",
   "metadata": {},
   "outputs": [],
   "source": [
    "def get_xy_pde_rad(x_bounds, y_bounds, n, model, k=1, c=1, oversampling = 3):\n",
    "    xy_pde_base = get_xy_pde_random(x_bounds, y_bounds, n * oversampling)\n",
    "    X_pde_base = torch.tensor(xy_pde_base, requires_grad = True).float().to(device)\n",
    "    output_pde = model(X_pde_base)\n",
    "    residue_continuity, residue_momentum_x, residue_momentum_y  = model.pdeResidue(X_pde_base, output_pde)\n",
    "    epsilon = torch.pow(torch.abs(residue_momentum_x), k) + torch.pow(torch.abs(residue_momentum_y), k)\n",
    "    err_eq = epsilon/epsilon.mean() + c\n",
    "    err_eq_normalized = (err_eq/sum(err_eq))[:, 0]\n",
    "    idx = np.random.choice(a=len(X_pde_base), size=n, replace=False, p=err_eq_normalized.data.cpu().detach().numpy())\n",
    "    return X_pde_base[idx.flatten(), :].cpu().detach().numpy()"
   ]
  },
  {
   "cell_type": "code",
   "execution_count": 76,
   "id": "7ca2f5a4-5e3d-4391-8587-0754118944a3",
   "metadata": {},
   "outputs": [],
   "source": [
    "def get_xy_bc_rad(x_bounds, y_bounds, n, model, k=1, c=1, oversampling = 3):\n",
    "    xy_bc_base = get_xy_bc_random(x_bounds, y_bounds, n * oversampling)\n",
    "    X_bc_base = torch.tensor(xy_bc_base).float().to(device)\n",
    "    output_bc = model(X_bc_base)\n",
    "    residue_u, residue_v = model.bcUVResidue(X_bc_base, output_bc)\n",
    "    epsilon = torch.pow(torch.abs(residue_u), k) + torch.pow(torch.abs(residue_v), k)\n",
    "    err_eq = epsilon/epsilon.mean() + c\n",
    "    err_eq_normalized = (err_eq/sum(err_eq))[:, 0]\n",
    "    idx = np.random.choice(a=len(X_bc_base), size=n, replace=False, p=err_eq_normalized.data.cpu().detach().numpy())\n",
    "    return X_bc_base[idx.flatten(), :].cpu().detach().numpy()"
   ]
  },
  {
   "cell_type": "code",
   "execution_count": 89,
   "id": "c9dbffcc-b601-4abd-91ac-e74aa46a15c0",
   "metadata": {},
   "outputs": [
    {
     "name": "stdout",
     "output_type": "stream",
     "text": [
      "Residual-based Adaptative Distribution sampling Dataset Train\n",
      "------------------------------------------------------------\n",
      "Npde = 1000 | Nbc = 100\n"
     ]
    },
    {
     "data": {
      "application/vnd.jupyter.widget-view+json": {
       "model_id": "6d7a8cb19295473b8cb5ea148719a479",
       "version_major": 2,
       "version_minor": 0
      },
      "text/plain": [
       "  0%|          | 0/10000 [00:00<?, ?it/s]"
      ]
     },
     "metadata": {},
     "output_type": "display_data"
    },
    {
     "name": "stdout",
     "output_type": "stream",
     "text": [
      "Epoch 500/10000 - Loss Overall: 2.0222e-01, PDE: 9.1718e-03, BC: 1.7659e-01, Data: 1.6462e-02\n",
      "Epoch 1000/10000 - Loss Overall: 1.4897e-01, PDE: 1.3799e-02, BC: 1.2173e-01, Data: 1.3433e-02\n",
      "New dataset sampling based on RAD strategy\n",
      "Epoch 1500/10000 - Loss Overall: 3.5273e-01, PDE: 3.7263e-02, BC: 3.0534e-01, Data: 1.0121e-02\n",
      "Epoch 2000/10000 - Loss Overall: 3.0525e-01, PDE: 3.4034e-02, BC: 2.6162e-01, Data: 9.6000e-03\n",
      "New dataset sampling based on RAD strategy\n",
      "Epoch 2500/10000 - Loss Overall: 1.1493e-01, PDE: 1.8841e-02, BC: 8.8580e-02, Data: 7.5115e-03\n",
      "Epoch 3000/10000 - Loss Overall: 1.0934e-01, PDE: 2.0693e-02, BC: 8.1773e-02, Data: 6.8773e-03\n",
      "New dataset sampling based on RAD strategy\n",
      "Epoch 3500/10000 - Loss Overall: 1.5319e-01, PDE: 2.3083e-02, BC: 1.2407e-01, Data: 6.0356e-03\n",
      "Epoch 4000/10000 - Loss Overall: 1.2859e-01, PDE: 2.0918e-02, BC: 1.0304e-01, Data: 4.6361e-03\n",
      "New dataset sampling based on RAD strategy\n",
      "Epoch 4500/10000 - Loss Overall: 1.1529e-01, PDE: 2.6389e-02, BC: 8.5162e-02, Data: 3.7411e-03\n",
      "Epoch 5000/10000 - Loss Overall: 9.8791e-02, PDE: 2.0438e-02, BC: 7.6008e-02, Data: 2.3449e-03\n",
      "New dataset sampling based on RAD strategy\n",
      "Epoch 5500/10000 - Loss Overall: 7.8347e-02, PDE: 1.4545e-02, BC: 6.2802e-02, Data: 1.0000e-03\n",
      "Epoch 6000/10000 - Loss Overall: 6.8052e-02, PDE: 1.1999e-02, BC: 5.5721e-02, Data: 3.3158e-04\n",
      "New dataset sampling based on RAD strategy\n",
      "Epoch 6500/10000 - Loss Overall: 5.2333e-02, PDE: 1.0516e-02, BC: 4.1574e-02, Data: 2.4319e-04\n",
      "Epoch 7000/10000 - Loss Overall: 3.9988e-02, PDE: 1.1276e-02, BC: 2.8521e-02, Data: 1.9136e-04\n",
      "New dataset sampling based on RAD strategy\n",
      "Epoch 7500/10000 - Loss Overall: 9.2089e-02, PDE: 9.7972e-03, BC: 8.2157e-02, Data: 1.3545e-04\n",
      "Epoch 8000/10000 - Loss Overall: 8.2897e-02, PDE: 1.2616e-02, BC: 7.0181e-02, Data: 9.9731e-05\n",
      "New dataset sampling based on RAD strategy\n",
      "Epoch 8500/10000 - Loss Overall: 2.4058e-02, PDE: 6.0477e-03, BC: 1.7899e-02, Data: 1.1040e-04\n",
      "Epoch 9000/10000 - Loss Overall: 1.7925e-02, PDE: 5.0046e-03, BC: 1.2772e-02, Data: 1.4792e-04\n",
      "New dataset sampling based on RAD strategy\n",
      "Epoch 9500/10000 - Loss Overall: 1.0048e-01, PDE: 6.5198e-03, BC: 9.3908e-02, Data: 4.9902e-05\n",
      "Epoch 10000/10000 - Loss Overall: 9.5584e-02, PDE: 7.1586e-03, BC: 8.8360e-02, Data: 6.5271e-05\n",
      "Error on ground-truth mse_u: 0.00016680483700027548 | mse_v: 0.00014552954758369752 | mse_p: 0.002064645831429495\n",
      "------------------------------------------------------------\n",
      "Npde = 10000 | Nbc = 1000\n"
     ]
    },
    {
     "data": {
      "application/vnd.jupyter.widget-view+json": {
       "model_id": "b0d6b10440aa48bfab05020f16e5efd4",
       "version_major": 2,
       "version_minor": 0
      },
      "text/plain": [
       "  0%|          | 0/10000 [00:00<?, ?it/s]"
      ]
     },
     "metadata": {},
     "output_type": "display_data"
    },
    {
     "name": "stdout",
     "output_type": "stream",
     "text": [
      "Epoch 500/10000 - Loss Overall: 1.8200e-01, PDE: 7.6432e-03, BC: 1.6159e-01, Data: 1.2767e-02\n",
      "Epoch 1000/10000 - Loss Overall: 1.4446e-01, PDE: 1.1782e-02, BC: 1.2296e-01, Data: 9.7245e-03\n",
      "New dataset sampling based on RAD strategy\n",
      "Epoch 1500/10000 - Loss Overall: 2.7640e-01, PDE: 2.4924e-02, BC: 2.4240e-01, Data: 9.0786e-03\n",
      "Epoch 2000/10000 - Loss Overall: 1.6987e-01, PDE: 2.6590e-02, BC: 1.3651e-01, Data: 6.7631e-03\n",
      "New dataset sampling based on RAD strategy\n",
      "Epoch 2500/10000 - Loss Overall: 1.7863e-01, PDE: 2.9056e-02, BC: 1.4395e-01, Data: 5.6180e-03\n",
      "Epoch 3000/10000 - Loss Overall: 1.7324e-01, PDE: 3.0466e-02, BC: 1.3826e-01, Data: 4.5216e-03\n",
      "New dataset sampling based on RAD strategy\n",
      "Epoch 3500/10000 - Loss Overall: 1.2367e-01, PDE: 2.0194e-02, BC: 1.0045e-01, Data: 3.0298e-03\n",
      "Epoch 4000/10000 - Loss Overall: 1.1160e-01, PDE: 1.7836e-02, BC: 9.2491e-02, Data: 1.2708e-03\n",
      "New dataset sampling based on RAD strategy\n",
      "Epoch 4500/10000 - Loss Overall: 1.2533e-01, PDE: 1.3866e-02, BC: 1.1077e-01, Data: 6.8612e-04\n",
      "Epoch 5000/10000 - Loss Overall: 8.8695e-02, PDE: 1.1043e-02, BC: 7.7364e-02, Data: 2.8832e-04\n",
      "New dataset sampling based on RAD strategy\n",
      "Epoch 5500/10000 - Loss Overall: 9.1325e-02, PDE: 1.1030e-02, BC: 8.0083e-02, Data: 2.1199e-04\n",
      "Epoch 6000/10000 - Loss Overall: 8.4449e-02, PDE: 9.3442e-03, BC: 7.4970e-02, Data: 1.3443e-04\n",
      "New dataset sampling based on RAD strategy\n",
      "Epoch 6500/10000 - Loss Overall: 9.6833e-02, PDE: 1.0201e-02, BC: 8.6539e-02, Data: 9.3257e-05\n",
      "Epoch 7000/10000 - Loss Overall: 8.9717e-02, PDE: 9.3948e-03, BC: 8.0256e-02, Data: 6.6825e-05\n",
      "New dataset sampling based on RAD strategy\n",
      "Epoch 7500/10000 - Loss Overall: 6.1634e-02, PDE: 6.9569e-03, BC: 5.4603e-02, Data: 7.4043e-05\n",
      "Epoch 8000/10000 - Loss Overall: 6.6297e-02, PDE: 7.8288e-03, BC: 5.8288e-02, Data: 1.8034e-04\n",
      "New dataset sampling based on RAD strategy\n",
      "Epoch 8500/10000 - Loss Overall: 6.1899e-02, PDE: 5.2527e-03, BC: 5.6571e-02, Data: 7.5144e-05\n",
      "Epoch 9000/10000 - Loss Overall: 5.9823e-02, PDE: 4.9684e-03, BC: 5.4787e-02, Data: 6.7046e-05\n",
      "New dataset sampling based on RAD strategy\n",
      "Epoch 9500/10000 - Loss Overall: 4.8951e-02, PDE: 5.3511e-03, BC: 4.3523e-02, Data: 7.6588e-05\n",
      "Epoch 10000/10000 - Loss Overall: 5.1419e-02, PDE: 4.2892e-03, BC: 4.7097e-02, Data: 3.2537e-05\n",
      "Error on ground-truth mse_u: 0.00016994212322468536 | mse_v: 0.00018235732030513042 | mse_p: 0.001963971686212373\n",
      "------------------------------------------------------------\n",
      "Npde = 50000 | Nbc = 5000\n"
     ]
    },
    {
     "data": {
      "application/vnd.jupyter.widget-view+json": {
       "model_id": "c27236917c5b496897c806c08665a202",
       "version_major": 2,
       "version_minor": 0
      },
      "text/plain": [
       "  0%|          | 0/10000 [00:00<?, ?it/s]"
      ]
     },
     "metadata": {},
     "output_type": "display_data"
    },
    {
     "name": "stdout",
     "output_type": "stream",
     "text": [
      "Epoch 500/10000 - Loss Overall: 1.6371e-01, PDE: 5.7299e-03, BC: 1.4495e-01, Data: 1.3030e-02\n",
      "Epoch 1000/10000 - Loss Overall: 1.2499e-01, PDE: 9.1554e-03, BC: 1.0556e-01, Data: 1.0275e-02\n",
      "New dataset sampling based on RAD strategy\n",
      "Epoch 1500/10000 - Loss Overall: 2.1895e-01, PDE: 2.3979e-02, BC: 1.8607e-01, Data: 8.8919e-03\n",
      "Epoch 2000/10000 - Loss Overall: 1.7613e-01, PDE: 2.5575e-02, BC: 1.4359e-01, Data: 6.9670e-03\n",
      "New dataset sampling based on RAD strategy\n",
      "Epoch 2500/10000 - Loss Overall: 1.6787e-01, PDE: 2.6880e-02, BC: 1.3593e-01, Data: 5.0639e-03\n",
      "Epoch 3000/10000 - Loss Overall: 1.4808e-01, PDE: 2.3667e-02, BC: 1.2022e-01, Data: 4.1969e-03\n",
      "New dataset sampling based on RAD strategy\n",
      "Epoch 3500/10000 - Loss Overall: 1.4870e-01, PDE: 2.4897e-02, BC: 1.2082e-01, Data: 2.9809e-03\n",
      "Epoch 4000/10000 - Loss Overall: 1.4167e-01, PDE: 2.2192e-02, BC: 1.1733e-01, Data: 2.1506e-03\n",
      "New dataset sampling based on RAD strategy\n",
      "Epoch 4500/10000 - Loss Overall: 1.2841e-01, PDE: 2.1737e-02, BC: 1.0552e-01, Data: 1.1561e-03\n",
      "Epoch 5000/10000 - Loss Overall: 1.1868e-01, PDE: 1.5950e-02, BC: 1.0209e-01, Data: 6.3686e-04\n",
      "New dataset sampling based on RAD strategy\n",
      "Epoch 5500/10000 - Loss Overall: 1.1167e-01, PDE: 1.5748e-02, BC: 9.5451e-02, Data: 4.6946e-04\n",
      "Epoch 6000/10000 - Loss Overall: 9.5886e-02, PDE: 1.3550e-02, BC: 8.2182e-02, Data: 1.5388e-04\n",
      "New dataset sampling based on RAD strategy\n",
      "Epoch 6500/10000 - Loss Overall: 9.1815e-02, PDE: 1.2772e-02, BC: 7.8915e-02, Data: 1.2875e-04\n",
      "Epoch 7000/10000 - Loss Overall: 8.5792e-02, PDE: 1.1479e-02, BC: 7.4145e-02, Data: 1.6776e-04\n",
      "New dataset sampling based on RAD strategy\n",
      "Epoch 7500/10000 - Loss Overall: 7.3326e-02, PDE: 9.2068e-03, BC: 6.4044e-02, Data: 7.4989e-05\n",
      "Epoch 8000/10000 - Loss Overall: 7.7110e-02, PDE: 1.0932e-02, BC: 6.6072e-02, Data: 1.0638e-04\n",
      "New dataset sampling based on RAD strategy\n",
      "Epoch 8500/10000 - Loss Overall: 5.7100e-02, PDE: 7.6653e-03, BC: 4.9378e-02, Data: 5.6555e-05\n",
      "Epoch 9000/10000 - Loss Overall: 5.6107e-02, PDE: 7.6750e-03, BC: 4.8365e-02, Data: 6.6882e-05\n",
      "New dataset sampling based on RAD strategy\n",
      "Epoch 9500/10000 - Loss Overall: 7.0799e-02, PDE: 6.7443e-03, BC: 6.4024e-02, Data: 3.0086e-05\n",
      "Epoch 10000/10000 - Loss Overall: 6.3470e-02, PDE: 7.0483e-03, BC: 5.6383e-02, Data: 3.8247e-05\n",
      "Error on ground-truth mse_u: 0.00012151133615698678 | mse_v: 0.00011107714420618303 | mse_p: 0.0022761759189952498\n"
     ]
    }
   ],
   "source": [
    "rad_mse_error = []\n",
    "\n",
    "print(\"Residual-based Adaptative Distribution sampling Dataset Train\")\n",
    "for n_pde, n_bc in n_datasets:\n",
    "    # Init\n",
    "    model = PINN_Module(model_parameters).to(device)\n",
    "    loss_fn = nn.MSELoss()\n",
    "    optimizer = torch.optim.Adam(model.parameters(), lr=lr)\n",
    "    best_val_loss = float('inf')\n",
    "    best_model_state = None\n",
    "\n",
    "    xy_pde_random = get_xy_pde_random([0, 1], [0, 1], n_pde)\n",
    "    X_pde = torch.tensor(xy_pde_random, requires_grad = True).float().to(device)\n",
    "    xy_bc_random = get_xy_bc_random([0, 1], [0, 1], n_bc)\n",
    "    X_bc = torch.tensor(xy_bc_random).float().to(device)\n",
    "    X_bc_0 = torch.tensor([[0, 0]]).float().to(device)\n",
    "\n",
    "    # Train\n",
    "    print(\"------------------------------------------------------------\")\n",
    "    print(f\"Npde = {n_pde} | Nbc = {n_bc}\")\n",
    "    for epoch in tqdm(range(epochs)):\n",
    "        # RAD strategy\n",
    "        if epoch % (epochs/10) == 0 and epoch!=0:\n",
    "            xy_pde_rad = get_xy_pde_rad([0, 1], [0, 1], n_pde, model)\n",
    "            X_pde = torch.tensor(xy_pde_rad, requires_grad = True).float().to(device)\n",
    "            xy_bc_rad = get_xy_bc_rad([0, 1], [0, 1], n_bc, model)\n",
    "            X_bc = torch.tensor(xy_bc_rad).float().to(device)\n",
    "            tqdm.write(f\"New dataset sampling based on RAD strategy\")\n",
    "            torch.cuda.empty_cache()\n",
    "        \n",
    "        optimizer.zero_grad()\n",
    "        loss_pde, loss_bc, loss_data = train_step(model, loss_fn, X_pde, X_bc, X_bc_0, X_data_random, Y_data_random)\n",
    "        loss_overall = loss_pde + loss_bc + loss_data\n",
    "        loss_overall.backward()\n",
    "        optimizer.step()\n",
    "        # Checkpoint best model\n",
    "        if loss_overall.item() < best_val_loss:\n",
    "            best_val_loss = loss_overall.item()\n",
    "            best_model_state = model.state_dict()\n",
    "\n",
    "        if (epoch+1) % (epochs / 20) == 0:\n",
    "            tqdm.write(f\"Epoch {epoch+1}/{epochs} - Loss Overall: {loss_overall.item():.4e}, \"\n",
    "                       f\"PDE: {loss_pde.item():.4e}, BC: {loss_bc.item():.4e}, Data: {loss_data.item():.4e}\")\n",
    "\n",
    "    # Calculate error\n",
    "    model.load_state_dict(best_model_state)\n",
    "    model.train(False)\n",
    "    with torch.no_grad():\n",
    "        X_data = torch.tensor(xy_data_all).float().to(device)\n",
    "        output_data = model(X_data).cpu().numpy()\n",
    "    mse_u = mean_squared_error(output_data[:,0], labels_data_all[:,0])\n",
    "    mse_v = mean_squared_error(output_data[:,1], labels_data_all[:,1])\n",
    "    mse_p = mean_squared_error(output_data[:,2], labels_data_all[:,2])\n",
    "    rad_mse_error.append({'mse_u': mse_u, 'mse_v': mse_v, 'mse_p': mse_p})\n",
    "    print(f\"Error on ground-truth mse_u: {mse_u} | mse_v: {mse_v} | mse_p: {mse_p}\")\n",
    "\n",
    "    # Cleanup\n",
    "    del(X_data)\n",
    "    del(output_data)\n",
    "    torch.cuda.empty_cache()"
   ]
  },
  {
   "cell_type": "markdown",
   "id": "3d8f2fc8-066e-4c77-a7be-67975dbdf0df",
   "metadata": {},
   "source": [
    "### Grafica error vs tamaño del dataset"
   ]
  },
  {
   "cell_type": "code",
   "execution_count": 90,
   "id": "61a3e1a2-9a2a-4c03-aabe-8f347115d4cb",
   "metadata": {},
   "outputs": [
    {
     "data": {
      "image/png": "[encoded data removed]",
      "text/plain": [
       "<Figure size 2000x300 with 3 Axes>"
      ]
     },
     "metadata": {},
     "output_type": "display_data"
    }
   ],
   "source": [
    "n_datasets\n",
    "fig, ax = plt.subplots(1, 3, figsize=(20, 3))\n",
    "for i, title in enumerate(['mse_u', 'mse_v', 'mse_p']):\n",
    "    ax[i].loglog([n[0] for n in n_datasets], [error[title] for error in rand_mse_error], color='blue', label='Random')\n",
    "    ax[i].loglog([n[0] for n in n_datasets], [error[title] for error in lhs_mse_error], color='red', label='LHS')\n",
    "    ax[i].loglog([n[0] for n in n_datasets], [error[title] for error in rad_mse_error], color='green', label='RAD')\n",
    "    ax[i].set_xlabel('Npde')\n",
    "    ax[i].set_title(f\"{title}\")\n",
    "    ax[i].legend()\n",
    "plt.show()"
   ]
  },
  {
   "cell_type": "markdown",
   "id": "4d64ee23-4b54-4765-8b1c-9a53854c3c16",
   "metadata": {},
   "source": [
    "### Conclusiones"
   ]
  },
  {
   "cell_type": "markdown",
   "id": "bc4767e0-5ddf-4604-be2a-7f26d6d38391",
   "metadata": {},
   "source": [
    "- Para el último tamaño del dataset se utilizaron 50.000/5.000 muestras por restricciones del hardware disponibles.\n",
    "\n",
    "- A partir de la gráfica anterior, se observa una mejora apreciable de la norma-2 del error en función del tamaño del dataset para estregias random y LHS pero nó para estrategia RAD.\n",
    "\n",
    "- La mejor performance de todas se obutvo con la estrategia de muestreo LHS con 50.000/5.000 muestras, aunque la estrategia RAD obtuvo resultados prácticamente similares\n",
    "\n",
    "- Se observa que para estrategia random y datasets mayores a 10.000/1.000 muestras no se producen mejoras notables del error.\n",
    "\n",
    "- Al comparar las estrategias entre si, el mejor desempeño para datasets de menor tamaño fue alcanzado por la estrategia RAD. Con datasets de mayor tamaño el error conseguido con otras estrategias comienza a asemejarse al error de la estrategia RAD.\n",
    "\n",
    "- Las observaciones anteriores eran esperables:\n",
    "    - El mejor comportamiento con datasets pequeños lo obtuvo la estrategia de RAD ya que elije los puntos críticos en cada actualización del dataset.\n",
    "    - Se esperaba que las estrategias random y LHS reporten una mejora notable del error con el aumento del tamaño del dataset, mientras que para la estrategia RAD el aumento no fuera tan notable.\n",
    "    - Finalmente no se esperaba que el mejor error se obtuviese con estrategia LHS, aunque RAD obtuvo resultados prácticamente similares. Se estima que esto se debió a las condiciones aleatorias del experimento específico y no a bondades del método de elección de las muestras."
   ]
  }
 ],
 "metadata": {
  "kernelspec": {
   "display_name": "Python 3 (ipykernel)",
   "language": "python",
   "name": "python3"
  },
  "language_info": {
   "codemirror_mode": {
    "name": "ipython",
    "version": 3
   },
   "file_extension": ".py",
   "mimetype": "text/x-python",
   "name": "python",
   "nbconvert_exporter": "python",
   "pygments_lexer": "ipython3",
   "version": "3.12.11"
  }
 },
 "nbformat": 4,
 "nbformat_minor": 5
}
