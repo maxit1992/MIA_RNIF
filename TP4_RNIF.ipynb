{
 "cells": [
  {
   "cell_type": "markdown",
   "id": "35fd90b7-0a70-4ee5-8eb7-e1bd9c7b9fef",
   "metadata": {},
   "source": [
    "# Caso de estudio: Reconstrucción del campo de flujo en una cavidad cuadrada\n",
    "\n",
    "**Profesores**: Dr. Ing. Benjamin A. TOURN - Ing. Carlos G. MASSOBRIO\n",
    "\n",
    "**Cohorte**: B32025\n",
    "\n",
    "**Grupo**: N°2\n",
    "\n",
    "**Alumno**: Maximiliano Torti"
   ]
  },
  {
   "cell_type": "markdown",
   "id": "e4a593a8-97a1-40c3-8833-962bef3ab5af",
   "metadata": {},
   "source": [
    "## EDP"
   ]
  },
  {
   "cell_type": "markdown",
   "id": "25c35329-07f5-4ca4-b265-10bafd0bdda2",
   "metadata": {},
   "source": [
    "**Ecuaciones de Navier-Stokes incompresibles**\n",
    "\n",
    "$$(\\mathbf{u}\\cdot\\nabla)\\mathbf{u} = -\\nabla p + 1/R_e \\nabla^2 \\mathbf{u}, \\text{ en } \\Omega $$\n",
    "$$\\nabla \\mathbf{u} = 0, \\text{ en } \\Omega $$"
   ]
  },
  {
   "cell_type": "markdown",
   "id": "e173f43b-587e-41f5-a930-20f3d99b3f4a",
   "metadata": {},
   "source": [
    "## TP N° 4: Resolución del problema inverso"
   ]
  },
  {
   "cell_type": "code",
   "execution_count": 1,
   "id": "3edddea8-6e34-4745-a9e0-d0ba55dcd80e",
   "metadata": {},
   "outputs": [],
   "source": [
    "import scipy.io\n",
    "import numpy as np\n",
    "import matplotlib.pyplot as plt\n",
    "import random\n",
    "from matplotlib import cm\n",
    "from sklearn.metrics import mean_squared_error\n",
    "import torch\n",
    "import torch.nn as nn\n",
    "from tqdm.notebook import tqdm\n",
    "from pyDOE import lhs\n",
    "from scipy.interpolate import LinearNDInterpolator"
   ]
  },
  {
   "cell_type": "code",
   "execution_count": 2,
   "id": "25512824-03b8-4ece-9754-8bdbcb6c2bc9",
   "metadata": {},
   "outputs": [
    {
     "data": {
      "text/plain": [
       "device(type='cuda', index=0)"
      ]
     },
     "execution_count": 2,
     "metadata": {},
     "output_type": "execute_result"
    }
   ],
   "source": [
    "device = torch.device(\"cuda:0\" if torch.cuda.is_available() else \"cpu\")\n",
    "device"
   ]
  },
  {
   "cell_type": "markdown",
   "id": "f030270d-0168-4936-ae23-629308226a79",
   "metadata": {},
   "source": [
    "### Xpde y Xbc"
   ]
  },
  {
   "cell_type": "code",
   "execution_count": 3,
   "id": "9bb66ffc-cbdc-4783-b6c4-ad4093cefc72",
   "metadata": {},
   "outputs": [],
   "source": [
    "def get_xy_pde_lhs(x_bounds, y_bounds, n):\n",
    "    x = x_bounds[0] + (x_bounds[1] - x_bounds[0])  * lhs(1, n)[:,0]\n",
    "    y = y_bounds[0] + (y_bounds[1] - y_bounds[0])  * lhs(1, n)[:,0]\n",
    "    return np.array([[x[i], y[i]] for i in range(n)])"
   ]
  },
  {
   "cell_type": "code",
   "execution_count": 4,
   "id": "031f9420-8919-41e0-9c5b-ac82221cba3b",
   "metadata": {},
   "outputs": [],
   "source": [
    "def get_xy_bc_lhs(x_bounds, y_bounds, n):\n",
    "    xy = []\n",
    "    for i in range(n):    \n",
    "        side = random.choice(['top', 'right', 'bottom', 'left'])\n",
    "        if side == 'top':\n",
    "            xy.append([x_bounds[1], y_bounds[0] + (y_bounds[1] - y_bounds[0])  * lhs(1, 1)[0,0]])\n",
    "        elif side == 'right':\n",
    "            xy.append([x_bounds[0] + (x_bounds[1] - x_bounds[0])  * lhs(1, 1)[0,0], y_bounds[1]])\n",
    "        elif side == 'bottom':\n",
    "            xy.append([x_bounds[0], y_bounds[0] + (y_bounds[1] - y_bounds[0])  * lhs(1, 1)[0,0]])\n",
    "        else:  # side == 'left'\n",
    "            xy.append([x_bounds[0] + (x_bounds[1] - x_bounds[0])  * lhs(1, 1)[0,0], y_bounds[0]])\n",
    "    return np.array(xy)"
   ]
  },
  {
   "cell_type": "code",
   "execution_count": 5,
   "id": "0934f1fe-f86c-4a76-b6b7-910af3a77dfa",
   "metadata": {},
   "outputs": [],
   "source": [
    "n_pde = 10_000\n",
    "n_bc = 1_000\n",
    "xy_pde_lhs = get_xy_pde_lhs([0, 1], [0, 1], n_pde)\n",
    "X_pde = torch.tensor(xy_pde_lhs, requires_grad = True).float().to(device)\n",
    "xy_bc_lhs = get_xy_bc_lhs([0, 1], [0, 1], n_bc)\n",
    "X_bc = torch.tensor(xy_bc_lhs).float().to(device)\n",
    "X_bc_0 = torch.tensor([[0, 0]]).float().to(device)"
   ]
  },
  {
   "cell_type": "markdown",
   "id": "bbfe6127-de61-407e-995d-1d56727e4c1a",
   "metadata": {},
   "source": [
    "### Muestreo ground-truth"
   ]
  },
  {
   "cell_type": "code",
   "execution_count": 6,
   "id": "b6fa8638-d16d-4bb8-a8da-687848aa1785",
   "metadata": {},
   "outputs": [],
   "source": [
    "pressure_raw_data = scipy.io.loadmat('./Re-100/pressure.mat')\n",
    "velocity_raw_data = scipy.io.loadmat('./Re-100/velocity.mat')"
   ]
  },
  {
   "cell_type": "code",
   "execution_count": 7,
   "id": "5516fdd2-de1f-4ea6-a256-a0d379b5d6ed",
   "metadata": {},
   "outputs": [],
   "source": [
    "mesh_size_list = [0.25, 0.5, 0.75]\n",
    "n_mesh_size = 5\n",
    "\n",
    "xy_data_all = np.concatenate([pressure_raw_data['x'][0][:,np.newaxis], pressure_raw_data['y'][0][:,np.newaxis]], axis=1)\n",
    "labels_data_all = np.concatenate([velocity_raw_data['u'][0][:,np.newaxis],velocity_raw_data['v'][0][:,np.newaxis],\n",
    "                                 pressure_raw_data['p'][0][:,np.newaxis]], axis=1)"
   ]
  },
  {
   "cell_type": "code",
   "execution_count": 8,
   "id": "799c5d20-dfa3-4b87-9ffb-67bf66fbfe04",
   "metadata": {},
   "outputs": [],
   "source": [
    "def get_ds_data_mesh(pressure_ds, velocity_ds, mesh_size, n):\n",
    "    x_bounds = [0.5 - mesh_size/2, 0.5 + mesh_size/2]\n",
    "    y_bounds = [0.5 - mesh_size/2, 0.5 + mesh_size/2]\n",
    "    x = np.linspace(x_bounds[0], x_bounds[1], n)\n",
    "    y = np.linspace(y_bounds[0], y_bounds[1], n)\n",
    "    xy = np.array([[x_i,y_i] for x_i in x for y_i in y])\n",
    "    \n",
    "    # Not all points are aligned. If a point is missing, we will find the nearest neightbor.\n",
    "    u_interp_func = LinearNDInterpolator((pressure_ds['x'][0], pressure_ds['y'][0]), velocity_ds['u'][0])\n",
    "    v_interp_func = LinearNDInterpolator((pressure_ds['x'][0], pressure_ds['y'][0]), velocity_ds['v'][0])\n",
    "    p_interp_func = LinearNDInterpolator((pressure_ds['x'][0], pressure_ds['y'][0]), pressure_ds['p'][0])\n",
    "    \n",
    "    labels = []\n",
    "    for idx in range(len(xy)):\n",
    "        data_idx = np.argwhere(np.logical_and(pressure_ds['x'][0] == xy[idx,0], pressure_ds['y'][0] == xy[idx,1]))\n",
    "        if len(data_idx) > 0:\n",
    "            data_idx = data_idx[0][0]\n",
    "            assert pressure_ds['x'][0][data_idx] == velocity_ds['x'][0][data_idx]\n",
    "            assert pressure_ds['y'][0][data_idx] == velocity_ds['y'][0][data_idx]\n",
    "            labels.append([velocity_ds['u'][0][data_idx], velocity_ds['v'][0][data_idx], pressure_ds['p'][0][data_idx]])\n",
    "        else:\n",
    "            u_interpolated = u_interp_func(xy[idx,:])[0]\n",
    "            v_interpolated = v_interp_func(xy[idx,:])[0]\n",
    "            p_interpolated = p_interp_func(xy[idx,:])[0]\n",
    "            labels.append([u_interpolated, v_interpolated, p_interpolated])\n",
    "    return xy, np.array(labels)"
   ]
  },
  {
   "cell_type": "code",
   "execution_count": 9,
   "id": "c8f1eb88-ad2f-46d3-b75c-9d70c1bb7cbf",
   "metadata": {},
   "outputs": [
    {
     "data": {
      "image/png": "[encoded data removed]",
      "text/plain": [
       "<Figure size 2000x300 with 3 Axes>"
      ]
     },
     "metadata": {},
     "output_type": "display_data"
    }
   ],
   "source": [
    "fig, ax = plt.subplots(1, len(mesh_size_list), figsize=(20, 3))\n",
    "for i, mesh_size in enumerate(mesh_size_list):\n",
    "    xy_data_mesh, labels_data_mesh = get_ds_data_mesh(pressure_raw_data, velocity_raw_data, mesh_size, 5)\n",
    "    ax[i].scatter(xy_data_mesh[:,0], xy_data_mesh[:,1], s=4, c='r', label=f'N_data={len(xy_data_mesh)}')\n",
    "    ax[i].set_xlim([-0.05, 1.05])\n",
    "    ax[i].set_ylim([-0.05, 1.05])\n",
    "    ax[i].set_xlabel('Space domain (x)')\n",
    "    ax[i].set_ylabel('Space domain (y)')\n",
    "    ax[i].set_title(f\"Mesh size: {mesh_size} x {mesh_size}\")\n",
    "    ax[i].legend()\n",
    "plt.show()"
   ]
  },
  {
   "cell_type": "markdown",
   "id": "114da313-7ae6-4a78-affc-0d3997454c6c",
   "metadata": {},
   "source": [
    "### Modelo PINN"
   ]
  },
  {
   "cell_type": "code",
   "execution_count": 10,
   "id": "35d36c5d-801e-49c8-bdce-d89a3fdc457a",
   "metadata": {},
   "outputs": [],
   "source": [
    " class PINN_Module(nn.Module):\n",
    "\n",
    "    def __init__(self, model_parameters):\n",
    "        super(PINN_Module, self).__init__()\n",
    "        self.Reynolds = model_parameters[\"Reynolds\"]\n",
    "        self.InputDimensions = model_parameters[\"InputDimensions\"]\n",
    "        self.OutputDimensions = model_parameters[\"OutputDimensions\"]\n",
    "        self.NumberOfNeurons = model_parameters[\"NumberOfNeurons\"]\n",
    "        self.NumberOfHiddenLayers = model_parameters[\"NumberOfHiddenLayers\"]\n",
    "        self.ActivationFunction = model_parameters[\"ActivationFunction\"]\n",
    "        self.InputLayer = nn.Linear(self.InputDimensions, self.NumberOfNeurons)\n",
    "        self.HiddenLayers = nn.ModuleList(\n",
    "            [nn.Linear(self.NumberOfNeurons, self.NumberOfNeurons) for _ in range(self.NumberOfHiddenLayers - 1)])\n",
    "        self.OutputLayer = nn.Linear(self.NumberOfNeurons, self.OutputDimensions)\n",
    "        self.init_xavier()\n",
    "        \n",
    "    def init_xavier(self):\n",
    "        def init_weights(m):\n",
    "            if type(m) == nn.Linear and m.weight.requires_grad and m.bias.requires_grad:\n",
    "                g = nn.init.calculate_gain('tanh')\n",
    "                torch.nn.init.xavier_uniform_(m.weight, gain=g)\n",
    "                m.bias.data.fill_(0)\n",
    "        self.apply(init_weights)\n",
    "\n",
    "    def forward(self, x):\n",
    "        output = self.ActivationFunction(self.InputLayer(x))\n",
    "        for k, l in enumerate(self.HiddenLayers):\n",
    "            output = self.ActivationFunction(l(output))\n",
    "        output = self.OutputLayer(output)\n",
    "        return output\n",
    "\n",
    "    def pdeResidue(self, X, output):\n",
    "        # Separate output in u,v and p\n",
    "        u = output[:,0:1]\n",
    "        v = output[:,1:2]\n",
    "        p = output[:,2:3]\n",
    "        \n",
    "        # Compute the derivatives of the outputs u,v and p over the inputs (x,y) using AD mechanism:\n",
    "        diff_u = torch.autograd.grad(u, X, create_graph=True, grad_outputs=torch.ones_like(u))[0]\n",
    "        diff_v = torch.autograd.grad(v, X, create_graph=True, grad_outputs=torch.ones_like(v))[0]\n",
    "        diff_p = torch.autograd.grad(p, X, create_graph=True, grad_outputs=torch.ones_like(p))[0]\n",
    "        u_x, u_y = diff_u[:, 0:1], diff_u[:, 1:2]\n",
    "        v_x, v_y = diff_v[:, 0:1], diff_v[:, 1:2]\n",
    "        p_x, p_y = diff_p[:, 0:1], diff_p[:, 1:2]\n",
    "\n",
    "        # Compute the second derivative of the outputs u and v over the inputs (x,y) using AD mechanism:\n",
    "        u_xx = torch.autograd.grad(u_x, X, create_graph=True, grad_outputs=torch.ones_like(u_x))[0][:, 0:1]\n",
    "        u_yy = torch.autograd.grad(u_y, X, create_graph=True, grad_outputs=torch.ones_like(u_y))[0][:, 1:2]\n",
    "        v_xx = torch.autograd.grad(v_x, X, create_graph=True, grad_outputs=torch.ones_like(v_x))[0][:, 0:1]\n",
    "        v_yy = torch.autograd.grad(v_y, X, create_graph=True, grad_outputs=torch.ones_like(v_y))[0][:, 1:2]\n",
    "        \n",
    "        # Compute residues\n",
    "        residue_continuity = u_x + v_y\n",
    "        residue_momentum_x = u * u_x + v * u_y + p_x - (1/self.Reynolds) * (u_xx + u_yy)\n",
    "        residue_momentum_y = u * v_x + v * v_y + p_y - (1/self.Reynolds) * (v_xx + v_yy)\n",
    "        return residue_continuity, residue_momentum_x, residue_momentum_y\n",
    "\n",
    "    def bcUVResidue(self, X, output):\n",
    "        # Separate u and v from the output\n",
    "        u = output[:,0:1]\n",
    "        v = output[:,1:2]\n",
    "        # Calculate true bc values \n",
    "        u_bc = (X[:,1:2] == 1) * 1.0 # u = 1 only at upper y bound, else 0\n",
    "        residue_u = u - u_bc\n",
    "        residue_v = v # v = 0 on all border\n",
    "        return residue_u, residue_v\n",
    "\n",
    "    def bcPResidue(self, X, output):\n",
    "        # Separate p from the output\n",
    "        p = output[:,2:3]\n",
    "        residue_p = p # p = 0 on the origin\n",
    "        return residue_p"
   ]
  },
  {
   "cell_type": "markdown",
   "id": "262c2469-84c2-4acf-89c6-035526e19f2c",
   "metadata": {},
   "source": [
    "### Entrenamiento inverso con datos limpios"
   ]
  },
  {
   "cell_type": "code",
   "execution_count": 11,
   "id": "de241e38-d31d-4e5c-925e-2ad3965c2195",
   "metadata": {},
   "outputs": [],
   "source": [
    "# Shared model parameters\n",
    "abs_smooth_fun = lambda x: x * torch.tanh(1e3 * x)\n",
    "model_parameters = {\n",
    "    \"Reynolds\": 100,\n",
    "    \"InputDimensions\": 2,\n",
    "    \"OutputDimensions\": 3,\n",
    "    \"NumberOfNeurons\": 100,\n",
    "    \"NumberOfHiddenLayers\": 4,\n",
    "    \"ActivationFunction\": nn.GELU()\n",
    "}\n",
    "epochs = 20_000"
   ]
  },
  {
   "cell_type": "code",
   "execution_count": 12,
   "id": "57868107-22c0-43cf-b317-20e2b0de68e8",
   "metadata": {},
   "outputs": [],
   "source": [
    "def train_step(model, loss_fn, X_pde, X_bc, X_bc_0, X_data, Y_data, Re):\n",
    "    model.Reynolds = abs_smooth_fun(Re)\n",
    "    # PDE\n",
    "    output_pde = model(X_pde)\n",
    "    residue_continuity, residue_momentum_x, residue_momentum_y  = model.pdeResidue(X_pde, output_pde)\n",
    "    loss_pde_continuity = loss_fn(residue_continuity, torch.zeros_like(residue_continuity))\n",
    "    loss_pde_momentum_x = loss_fn(residue_momentum_x, torch.zeros_like(residue_momentum_x))\n",
    "    loss_pde_momentum_y = loss_fn(residue_momentum_y, torch.zeros_like(residue_momentum_y))\n",
    "    loss_pde = (loss_pde_continuity + loss_pde_momentum_x + loss_pde_momentum_y) / 3\n",
    "    \n",
    "    # BC\n",
    "    output_bc = model(X_bc)\n",
    "    residue_u, residue_v = model.bcUVResidue(X_bc, output_bc)\n",
    "    loss_bc_u = loss_fn(residue_u, torch.zeros_like(residue_u))\n",
    "    loss_bc_v = loss_fn(residue_v, torch.zeros_like(residue_v))\n",
    "    output_bc_0 = model(X_bc_0)\n",
    "    residue_p = model.bcPResidue(X_bc_0, output_bc_0)\n",
    "    loss_bc_p = loss_fn(residue_p, torch.zeros_like(residue_p))\n",
    "    loss_bc = loss_bc_u * 10 + loss_bc_v * 10 + loss_bc_p * 100\n",
    "    \n",
    "    #Loss data\n",
    "    y_hat_data = model(X_data)\n",
    "    loss_data = loss_fn(y_hat_data, Y_data)\n",
    "    \n",
    "    return loss_pde, loss_bc, loss_data"
   ]
  },
  {
   "cell_type": "code",
   "execution_count": 34,
   "id": "b90954ba-4e5f-4312-86fb-0a057f48c99f",
   "metadata": {},
   "outputs": [
    {
     "name": "stdout",
     "output_type": "stream",
     "text": [
      "Reynolds parameter inverse problem with clean data\n",
      "------------------------------------------------------------\n",
      "Mesh size: 0.25 x 0.25\n"
     ]
    },
    {
     "data": {
      "application/vnd.jupyter.widget-view+json": {
       "model_id": "2fdb219f2a7c48daaa39e9d60f4993e3",
       "version_major": 2,
       "version_minor": 0
      },
      "text/plain": [
       "  0%|          | 0/20000 [00:00<?, ?it/s]"
      ]
     },
     "metadata": {},
     "output_type": "display_data"
    },
    {
     "name": "stdout",
     "output_type": "stream",
     "text": [
      "Epoch 1000/20000 - Loss Overall: 1.3059e-01, PDE: 1.4986e-02, BC: 1.1122e-01, Data: 4.3844e-03 - Reynolds: 94.6339111328125\n",
      "Epoch 2000/20000 - Loss Overall: 8.1289e-02, PDE: 9.5917e-03, BC: 6.9857e-02, Data: 1.8401e-03 - Reynolds: 169.91064453125\n",
      "Epoch 3000/20000 - Loss Overall: 6.4777e-02, PDE: 1.0547e-02, BC: 5.3108e-02, Data: 1.1220e-03 - Reynolds: 250.94094848632812\n",
      "Epoch 4000/20000 - Loss Overall: 4.9640e-02, PDE: 9.5618e-03, BC: 3.9380e-02, Data: 6.9802e-04 - Reynolds: 325.28912353515625\n",
      "Epoch 5000/20000 - Loss Overall: 4.1892e-02, PDE: 8.6719e-03, BC: 3.2703e-02, Data: 5.1715e-04 - Reynolds: 403.4864501953125\n",
      "Epoch 6000/20000 - Loss Overall: 3.5224e-02, PDE: 8.1680e-03, BC: 2.6695e-02, Data: 3.6028e-04 - Reynolds: 490.86358642578125\n",
      "Epoch 7000/20000 - Loss Overall: 3.0740e-02, PDE: 7.3499e-03, BC: 2.3080e-02, Data: 3.0999e-04 - Reynolds: 592.0830688476562\n",
      "Epoch 8000/20000 - Loss Overall: 3.0804e-02, PDE: 7.0195e-03, BC: 2.3544e-02, Data: 2.4014e-04 - Reynolds: 709.5288696289062\n",
      "Epoch 9000/20000 - Loss Overall: 3.3102e-02, PDE: 6.6606e-03, BC: 2.6245e-02, Data: 1.9663e-04 - Reynolds: 846.763916015625\n",
      "Epoch 10000/20000 - Loss Overall: 2.1448e-02, PDE: 5.1450e-03, BC: 1.6163e-02, Data: 1.3974e-04 - Reynolds: 1005.9589233398438\n",
      "Epoch 11000/20000 - Loss Overall: 1.9089e-02, PDE: 4.8683e-03, BC: 1.4107e-02, Data: 1.1398e-04 - Reynolds: 1186.383544921875\n",
      "Epoch 12000/20000 - Loss Overall: 1.8107e-02, PDE: 4.4397e-03, BC: 1.3558e-02, Data: 1.0954e-04 - Reynolds: 1391.8037109375\n",
      "Epoch 13000/20000 - Loss Overall: 1.7033e-02, PDE: 4.1609e-03, BC: 1.2760e-02, Data: 1.1127e-04 - Reynolds: 1621.7744140625\n",
      "Epoch 14000/20000 - Loss Overall: 1.5326e-02, PDE: 3.7417e-03, BC: 1.1475e-02, Data: 1.0930e-04 - Reynolds: 1878.8760986328125\n",
      "Epoch 15000/20000 - Loss Overall: 1.3832e-02, PDE: 3.6718e-03, BC: 1.0061e-02, Data: 9.8836e-05 - Reynolds: 2162.414306640625\n",
      "Epoch 16000/20000 - Loss Overall: 1.2191e-02, PDE: 3.1952e-03, BC: 8.8978e-03, Data: 9.8321e-05 - Reynolds: 2471.5439453125\n",
      "Epoch 17000/20000 - Loss Overall: 1.3895e-02, PDE: 4.9680e-03, BC: 8.8298e-03, Data: 9.7729e-05 - Reynolds: 2807.429931640625\n",
      "Epoch 18000/20000 - Loss Overall: 1.9457e-02, PDE: 9.1265e-03, BC: 1.0223e-02, Data: 1.0832e-04 - Reynolds: 3172.866455078125\n",
      "Epoch 19000/20000 - Loss Overall: 9.1591e-03, PDE: 2.3668e-03, BC: 6.6898e-03, Data: 1.0242e-04 - Reynolds: 3555.0419921875\n",
      "Epoch 20000/20000 - Loss Overall: 5.8992e-02, PDE: 2.8645e-03, BC: 5.6043e-02, Data: 8.4867e-05 - Reynolds: 3967.267578125\n",
      "Reynolds value: 3967.267578125\n",
      "Error on ground-truth mse_u: 0.008833376498398382 | mse_v: 0.0067087409504146146 | mse_p: 0.009765678526454215\n",
      "------------------------------------------------------------\n",
      "Mesh size: 0.5 x 0.5\n"
     ]
    },
    {
     "data": {
      "application/vnd.jupyter.widget-view+json": {
       "model_id": "cd056ba6a9d1491a9d2dfff09589c620",
       "version_major": 2,
       "version_minor": 0
      },
      "text/plain": [
       "  0%|          | 0/20000 [00:00<?, ?it/s]"
      ]
     },
     "metadata": {},
     "output_type": "display_data"
    },
    {
     "name": "stdout",
     "output_type": "stream",
     "text": [
      "Epoch 1000/20000 - Loss Overall: 1.4497e-01, PDE: 1.5786e-02, BC: 1.2368e-01, Data: 5.5074e-03 - Reynolds: 67.13082885742188\n",
      "Epoch 2000/20000 - Loss Overall: 1.1757e-01, PDE: 1.3775e-02, BC: 1.0106e-01, Data: 2.7281e-03 - Reynolds: 114.31157684326172\n",
      "Epoch 3000/20000 - Loss Overall: 7.0213e-02, PDE: 1.2383e-02, BC: 5.6396e-02, Data: 1.4348e-03 - Reynolds: 156.91848754882812\n",
      "Epoch 4000/20000 - Loss Overall: 7.2604e-02, PDE: 1.1693e-02, BC: 6.0170e-02, Data: 7.4118e-04 - Reynolds: 198.5251922607422\n",
      "Epoch 5000/20000 - Loss Overall: 4.7700e-02, PDE: 1.0482e-02, BC: 3.6563e-02, Data: 6.5541e-04 - Reynolds: 244.46493530273438\n",
      "Epoch 6000/20000 - Loss Overall: 3.8545e-02, PDE: 8.8672e-03, BC: 2.9171e-02, Data: 5.0660e-04 - Reynolds: 293.56353759765625\n",
      "Epoch 7000/20000 - Loss Overall: 3.8049e-02, PDE: 7.5539e-03, BC: 3.0047e-02, Data: 4.4778e-04 - Reynolds: 346.8485107421875\n",
      "Epoch 8000/20000 - Loss Overall: 3.0918e-02, PDE: 7.5876e-03, BC: 2.2849e-02, Data: 4.8159e-04 - Reynolds: 404.6187744140625\n",
      "Epoch 9000/20000 - Loss Overall: 2.4472e-02, PDE: 7.4830e-03, BC: 1.6556e-02, Data: 4.3250e-04 - Reynolds: 467.4358825683594\n",
      "Epoch 10000/20000 - Loss Overall: 2.1327e-02, PDE: 6.0912e-03, BC: 1.4869e-02, Data: 3.6678e-04 - Reynolds: 533.3551635742188\n",
      "Epoch 11000/20000 - Loss Overall: 2.3685e-02, PDE: 6.2928e-03, BC: 1.6933e-02, Data: 4.5922e-04 - Reynolds: 593.798828125\n",
      "Epoch 12000/20000 - Loss Overall: 1.7052e-02, PDE: 5.2475e-03, BC: 1.1397e-02, Data: 4.0695e-04 - Reynolds: 640.491455078125\n",
      "Epoch 13000/20000 - Loss Overall: 3.0400e-02, PDE: 3.8051e-03, BC: 2.6343e-02, Data: 2.5129e-04 - Reynolds: 661.3787841796875\n",
      "Epoch 14000/20000 - Loss Overall: 2.0521e-02, PDE: 3.6066e-03, BC: 1.6673e-02, Data: 2.4206e-04 - Reynolds: 640.0029907226562\n",
      "Epoch 15000/20000 - Loss Overall: 1.1379e-02, PDE: 3.9610e-03, BC: 7.1369e-03, Data: 2.8066e-04 - Reynolds: 565.1766357421875\n",
      "Epoch 16000/20000 - Loss Overall: 1.1425e-02, PDE: 2.8903e-03, BC: 8.2632e-03, Data: 2.7109e-04 - Reynolds: 484.5273132324219\n",
      "Epoch 17000/20000 - Loss Overall: 1.2692e-02, PDE: 2.9952e-03, BC: 9.3146e-03, Data: 3.8261e-04 - Reynolds: 432.0398254394531\n",
      "Epoch 18000/20000 - Loss Overall: 8.7829e-03, PDE: 2.1084e-03, BC: 6.4023e-03, Data: 2.7222e-04 - Reynolds: 399.62445068359375\n",
      "Epoch 19000/20000 - Loss Overall: 9.3744e-03, PDE: 1.8878e-03, BC: 7.2318e-03, Data: 2.5474e-04 - Reynolds: 376.7712097167969\n",
      "Epoch 20000/20000 - Loss Overall: 9.5303e-03, PDE: 1.9561e-03, BC: 7.2631e-03, Data: 3.1111e-04 - Reynolds: 359.4195556640625\n",
      "Reynolds value: 359.4195556640625\n",
      "Error on ground-truth mse_u: 0.0015990665628553146 | mse_v: 0.0009528477783173375 | mse_p: 0.005646979618585045\n",
      "------------------------------------------------------------\n",
      "Mesh size: 0.75 x 0.75\n"
     ]
    },
    {
     "data": {
      "application/vnd.jupyter.widget-view+json": {
       "model_id": "e6c725d6dee245b99edd9fef6d0b81cf",
       "version_major": 2,
       "version_minor": 0
      },
      "text/plain": [
       "  0%|          | 0/20000 [00:00<?, ?it/s]"
      ]
     },
     "metadata": {},
     "output_type": "display_data"
    },
    {
     "name": "stdout",
     "output_type": "stream",
     "text": [
      "Epoch 1000/20000 - Loss Overall: 1.5889e-01, PDE: 2.1021e-02, BC: 1.3228e-01, Data: 5.5894e-03 - Reynolds: 36.982662200927734\n",
      "Epoch 2000/20000 - Loss Overall: 9.3926e-02, PDE: 1.4463e-02, BC: 7.7748e-02, Data: 1.7153e-03 - Reynolds: 55.51778793334961\n",
      "Epoch 3000/20000 - Loss Overall: 7.1007e-02, PDE: 1.1219e-02, BC: 5.9108e-02, Data: 6.7981e-04 - Reynolds: 70.03773498535156\n",
      "Epoch 4000/20000 - Loss Overall: 5.4863e-02, PDE: 9.6459e-03, BC: 4.4752e-02, Data: 4.6491e-04 - Reynolds: 82.50106048583984\n",
      "Epoch 5000/20000 - Loss Overall: 3.7726e-02, PDE: 6.5637e-03, BC: 3.0960e-02, Data: 2.0248e-04 - Reynolds: 94.40902709960938\n",
      "Epoch 6000/20000 - Loss Overall: 2.9762e-02, PDE: 5.0979e-03, BC: 2.4544e-02, Data: 1.2019e-04 - Reynolds: 108.41265869140625\n",
      "Epoch 7000/20000 - Loss Overall: 2.7577e-02, PDE: 3.4739e-03, BC: 2.4013e-02, Data: 8.9824e-05 - Reynolds: 121.84196472167969\n",
      "Epoch 8000/20000 - Loss Overall: 2.1950e-02, PDE: 3.0338e-03, BC: 1.8813e-02, Data: 1.0332e-04 - Reynolds: 133.41354370117188\n",
      "Epoch 9000/20000 - Loss Overall: 1.8237e-02, PDE: 3.4026e-03, BC: 1.4683e-02, Data: 1.5147e-04 - Reynolds: 142.7704315185547\n",
      "Epoch 10000/20000 - Loss Overall: 1.9336e-02, PDE: 3.4379e-03, BC: 1.5703e-02, Data: 1.9533e-04 - Reynolds: 150.55581665039062\n",
      "Epoch 11000/20000 - Loss Overall: 1.2342e-02, PDE: 2.1313e-03, BC: 1.0029e-02, Data: 1.8110e-04 - Reynolds: 157.12315368652344\n",
      "Epoch 12000/20000 - Loss Overall: 1.1329e-02, PDE: 2.0838e-03, BC: 9.0480e-03, Data: 1.9676e-04 - Reynolds: 163.05027770996094\n",
      "Epoch 13000/20000 - Loss Overall: 1.0715e-02, PDE: 1.5573e-03, BC: 8.9495e-03, Data: 2.0838e-04 - Reynolds: 168.21409606933594\n",
      "Epoch 14000/20000 - Loss Overall: 8.3583e-03, PDE: 1.7450e-03, BC: 6.3847e-03, Data: 2.2858e-04 - Reynolds: 172.06329345703125\n",
      "Epoch 15000/20000 - Loss Overall: 1.0793e-02, PDE: 1.2270e-03, BC: 9.3401e-03, Data: 2.2614e-04 - Reynolds: 174.65975952148438\n",
      "Epoch 16000/20000 - Loss Overall: 8.5828e-03, PDE: 1.9341e-03, BC: 6.4070e-03, Data: 2.4172e-04 - Reynolds: 175.47555541992188\n",
      "Epoch 17000/20000 - Loss Overall: 6.1497e-03, PDE: 1.1364e-03, BC: 4.7967e-03, Data: 2.1658e-04 - Reynolds: 174.81698608398438\n",
      "Epoch 18000/20000 - Loss Overall: 7.3202e-03, PDE: 9.7489e-04, BC: 6.1363e-03, Data: 2.0905e-04 - Reynolds: 173.6398162841797\n",
      "Epoch 19000/20000 - Loss Overall: 5.4769e-03, PDE: 7.9580e-04, BC: 4.4835e-03, Data: 1.9762e-04 - Reynolds: 171.64120483398438\n",
      "Epoch 20000/20000 - Loss Overall: 5.3479e-03, PDE: 8.5443e-04, BC: 4.2986e-03, Data: 1.9484e-04 - Reynolds: 168.89920043945312\n",
      "Reynolds value: 168.89920043945312\n",
      "Error on ground-truth mse_u: 0.00029492698482151756 | mse_v: 0.00016601112154040638 | mse_p: 0.0027300393545912228\n"
     ]
    }
   ],
   "source": [
    "print(\"Reynolds parameter inverse problem with clean data\")\n",
    "\n",
    "for mesh_size in mesh_size_list:\n",
    "    # Init\n",
    "    model = PINN_Module(model_parameters).to(device)\n",
    "    reynolds = nn.Parameter(torch.rand(1).to(device))\n",
    "    loss_fn = nn.MSELoss()\n",
    "    optimizer = torch.optim.Adam([\n",
    "        {'params': model.parameters(), 'lr': 1e-3},\n",
    "        {'params': reynolds, 'lr': 1}])\n",
    "\n",
    "    xy_data_mesh, labels_data_mesh = get_ds_data_mesh(pressure_raw_data, velocity_raw_data, mesh_size, 5)\n",
    "    X_data = torch.tensor(xy_data_mesh).float().to(device)\n",
    "    Y_data = torch.tensor(labels_data_mesh).float().to(device)\n",
    "\n",
    "    # Train\n",
    "    print(\"------------------------------------------------------------\")\n",
    "    print(f\"Mesh size: {mesh_size} x {mesh_size}\")\n",
    "    for epoch in tqdm(range(epochs)):\n",
    "        optimizer.zero_grad()\n",
    "        loss_pde, loss_bc, loss_data = train_step(model, loss_fn, X_pde, X_bc, X_bc_0, X_data, Y_data, reynolds)\n",
    "        loss_overall = loss_pde + loss_bc + loss_data\n",
    "        loss_overall.backward()\n",
    "        optimizer.step()\n",
    "        if (epoch+1) % (epochs / 20) == 0:\n",
    "            tqdm.write(f\"Epoch {epoch+1}/{epochs} - Loss Overall: {loss_overall.item():.4e}, \"\n",
    "                       f\"PDE: {loss_pde.item():.4e}, BC: {loss_bc.item():.4e}, Data: {loss_data.item():.4e} - \"\n",
    "                       f\"Reynolds: {abs_smooth_fun(reynolds).item()}\")\n",
    "    print(f\"Reynolds value: {abs_smooth_fun(reynolds).item()}\")\n",
    "    # Calculate error\n",
    "    model.train(False)\n",
    "    with torch.no_grad():\n",
    "        X_data = torch.tensor(xy_data_all).float().to(device)\n",
    "        output_data = model(X_data).cpu().numpy()\n",
    "    mse_u = mean_squared_error(output_data[:,0], labels_data_all[:,0])\n",
    "    mse_v = mean_squared_error(output_data[:,1], labels_data_all[:,1])\n",
    "    mse_p = mean_squared_error(output_data[:,2], labels_data_all[:,2])\n",
    "    print(f\"Error on ground-truth mse_u: {mse_u} | mse_v: {mse_v} | mse_p: {mse_p}\")\n",
    "\n",
    "    # Grafica sobre x=0.5\n",
    "    mask_x05 = np.where(xy_data_all[:, 0] == 0.5)\n",
    "    xy_data_x05 = xy_data_all[mask_x05]\n",
    "    labels_data_x05 = labels_data_all[mask_x05]\n",
    "    model.train(False)\n",
    "    with torch.no_grad():\n",
    "        X_data = torch.tensor(xy_data_x05).float().to(device)\n",
    "        output_data = model(X_data).cpu().numpy()\n",
    "    fig, ax = plt.subplots(1, 3, figsize=(20, 3))\n",
    "    for i, title in enumerate(['u', 'v', 'p']):\n",
    "        ax[i].plot(xy_data_x05[:,1], output_data[:,i], color='blue', label='Model')\n",
    "        ax[i].plot(xy_data_x05[:,1], labels_data_x05[:,i], color='green', label='Ground-Truth')\n",
    "        ax[i].set_xlabel('y')\n",
    "        ax[i].set_title(f\"{title} (x=0.5)\")\n",
    "        ax[i].legend()\n",
    "    plt.show()\n",
    "\n",
    "    # Grafica sobre y=0.5\n",
    "    mask_y05 = np.where(xy_data_all[:, 1] == 0.5)\n",
    "    xy_data_y05 = xy_data_all[mask_y05]\n",
    "    labels_data_y05 = labels_data_all[mask_y05]\n",
    "    model.train(False)\n",
    "    with torch.no_grad():\n",
    "        X_data = torch.tensor(xy_data_y05).float().to(device)\n",
    "        output_data = model(X_data).cpu().numpy()\n",
    "    fig, ax = plt.subplots(1, 3, figsize=(20, 3))\n",
    "    for i, title in enumerate(['u', 'v', 'p']):\n",
    "        ax[i].plot(xy_data_y05[:,0], output_data[:,i], color='blue', label='Model')\n",
    "        ax[i].plot(xy_data_y05[:,0], labels_data_y05[:,i], color='green', label='Ground-Truth')\n",
    "        ax[i].set_xlabel('x')\n",
    "        ax[i].set_title(f\"{title} (y=0.5)\")\n",
    "        ax[i].legend()\n",
    "    plt.show()"
   ]
  },
  {
   "cell_type": "markdown",
   "id": "1dba399c-2c9b-4d7a-a859-40dd2080104c",
   "metadata": {},
   "source": [
    "### Entrenamiento inverso con datos con ruido"
   ]
  },
  {
   "cell_type": "code",
   "execution_count": 35,
   "id": "34d71a15-29e6-4277-96a6-7510ab11f622",
   "metadata": {},
   "outputs": [],
   "source": [
    "# Noise percentage\n",
    "omega = 0.01"
   ]
  },
  {
   "cell_type": "code",
   "execution_count": 38,
   "id": "76291034-1b7c-46e8-8fe4-6fa543ac86dd",
   "metadata": {},
   "outputs": [
    {
     "name": "stdout",
     "output_type": "stream",
     "text": [
      "Reynolds parameter inverse problem with noisy data\n",
      "------------------------------------------------------------\n",
      "Mesh size: 0.25 x 0.25\n"
     ]
    },
    {
     "data": {
      "application/vnd.jupyter.widget-view+json": {
       "model_id": "3029c237836b464dafb6f1bee61fd7f6",
       "version_major": 2,
       "version_minor": 0
      },
      "text/plain": [
       "  0%|          | 0/20000 [00:00<?, ?it/s]"
      ]
     },
     "metadata": {},
     "output_type": "display_data"
    },
    {
     "name": "stdout",
     "output_type": "stream",
     "text": [
      "Epoch 1000/20000 - Loss Overall: 1.7729e-01, PDE: 2.0721e-02, BC: 1.5468e-01, Data: 1.8898e-03 - Reynolds: 10.434347152709961\n",
      "Epoch 2000/20000 - Loss Overall: 1.2938e-01, PDE: 1.9272e-02, BC: 1.0901e-01, Data: 1.0987e-03 - Reynolds: 15.481565475463867\n",
      "Epoch 3000/20000 - Loss Overall: 9.3794e-02, PDE: 1.5535e-02, BC: 7.7280e-02, Data: 9.7947e-04 - Reynolds: 22.147201538085938\n",
      "Epoch 4000/20000 - Loss Overall: 6.4251e-02, PDE: 1.1617e-02, BC: 5.2125e-02, Data: 5.0930e-04 - Reynolds: 28.212467193603516\n",
      "Epoch 5000/20000 - Loss Overall: 4.9286e-02, PDE: 9.2606e-03, BC: 3.9636e-02, Data: 3.9022e-04 - Reynolds: 34.20429611206055\n",
      "Epoch 6000/20000 - Loss Overall: 4.1645e-02, PDE: 6.6117e-03, BC: 3.4789e-02, Data: 2.4427e-04 - Reynolds: 40.81296157836914\n",
      "Epoch 7000/20000 - Loss Overall: 3.2993e-02, PDE: 7.6872e-03, BC: 2.5107e-02, Data: 1.9865e-04 - Reynolds: 47.97142791748047\n",
      "Epoch 8000/20000 - Loss Overall: 2.7352e-02, PDE: 4.5941e-03, BC: 2.2618e-02, Data: 1.3924e-04 - Reynolds: 55.518714904785156\n",
      "Epoch 9000/20000 - Loss Overall: 2.1119e-02, PDE: 4.0343e-03, BC: 1.7024e-02, Data: 6.0836e-05 - Reynolds: 63.83903884887695\n",
      "Epoch 10000/20000 - Loss Overall: 1.8514e-02, PDE: 3.4762e-03, BC: 1.4991e-02, Data: 4.6963e-05 - Reynolds: 73.2449951171875\n",
      "Epoch 11000/20000 - Loss Overall: 2.2434e-02, PDE: 2.7005e-03, BC: 1.9703e-02, Data: 3.0255e-05 - Reynolds: 83.47441864013672\n",
      "Epoch 12000/20000 - Loss Overall: 1.5257e-02, PDE: 2.8573e-03, BC: 1.2374e-02, Data: 2.6062e-05 - Reynolds: 94.18275451660156\n",
      "Epoch 13000/20000 - Loss Overall: 1.1125e-02, PDE: 2.1998e-03, BC: 8.9140e-03, Data: 1.1588e-05 - Reynolds: 105.34980773925781\n",
      "Epoch 14000/20000 - Loss Overall: 1.2176e-02, PDE: 1.8655e-03, BC: 1.0296e-02, Data: 1.4355e-05 - Reynolds: 116.9637680053711\n",
      "Epoch 15000/20000 - Loss Overall: 9.6244e-03, PDE: 2.2521e-03, BC: 7.3499e-03, Data: 2.2416e-05 - Reynolds: 128.77586364746094\n",
      "Epoch 16000/20000 - Loss Overall: 7.8484e-03, PDE: 1.9947e-03, BC: 5.8334e-03, Data: 2.0294e-05 - Reynolds: 139.71170043945312\n",
      "Epoch 17000/20000 - Loss Overall: 6.3212e-03, PDE: 1.4410e-03, BC: 4.8495e-03, Data: 3.0781e-05 - Reynolds: 149.23097229003906\n",
      "Epoch 18000/20000 - Loss Overall: 1.0993e-02, PDE: 1.7432e-03, BC: 9.2074e-03, Data: 4.2138e-05 - Reynolds: 157.3855743408203\n",
      "Epoch 19000/20000 - Loss Overall: 5.8843e-03, PDE: 1.2640e-03, BC: 4.5884e-03, Data: 3.1905e-05 - Reynolds: 164.5167999267578\n",
      "Epoch 20000/20000 - Loss Overall: 5.3324e-03, PDE: 8.9941e-04, BC: 4.3904e-03, Data: 4.2632e-05 - Reynolds: 170.1674041748047\n",
      "Reynolds value: 170.1674041748047\n",
      "Error on ground-truth mse_u: 0.0003732869206559138 | mse_v: 0.00027662616036224435 | mse_p: 0.00279296569403877\n",
      "------------------------------------------------------------\n",
      "Mesh size: 0.5 x 0.5\n"
     ]
    },
    {
     "data": {
      "application/vnd.jupyter.widget-view+json": {
       "model_id": "d131d201064f43e09c1c29501bea5151",
       "version_major": 2,
       "version_minor": 0
      },
      "text/plain": [
       "  0%|          | 0/20000 [00:00<?, ?it/s]"
      ]
     },
     "metadata": {},
     "output_type": "display_data"
    },
    {
     "name": "stdout",
     "output_type": "stream",
     "text": [
      "Epoch 1000/20000 - Loss Overall: 1.3150e-01, PDE: 2.0021e-02, BC: 1.0878e-01, Data: 2.7025e-03 - Reynolds: 52.44612121582031\n",
      "Epoch 2000/20000 - Loss Overall: 7.9900e-02, PDE: 1.4783e-02, BC: 6.3850e-02, Data: 1.2669e-03 - Reynolds: 88.81922912597656\n",
      "Epoch 3000/20000 - Loss Overall: 5.8044e-02, PDE: 1.3058e-02, BC: 4.4329e-02, Data: 6.5685e-04 - Reynolds: 121.39179992675781\n",
      "Epoch 4000/20000 - Loss Overall: 4.5510e-02, PDE: 1.1652e-02, BC: 3.3468e-02, Data: 3.8983e-04 - Reynolds: 151.96107482910156\n",
      "Epoch 5000/20000 - Loss Overall: 3.6430e-02, PDE: 9.6061e-03, BC: 2.6451e-02, Data: 3.7247e-04 - Reynolds: 178.58197021484375\n",
      "Epoch 6000/20000 - Loss Overall: 2.8536e-02, PDE: 7.1106e-03, BC: 2.1164e-02, Data: 2.6154e-04 - Reynolds: 199.24729919433594\n",
      "Epoch 7000/20000 - Loss Overall: 4.1591e-02, PDE: 8.1214e-03, BC: 3.3090e-02, Data: 3.8025e-04 - Reynolds: 216.42547607421875\n",
      "Epoch 8000/20000 - Loss Overall: 2.0139e-02, PDE: 4.7729e-03, BC: 1.5152e-02, Data: 2.1406e-04 - Reynolds: 230.3594512939453\n",
      "Epoch 9000/20000 - Loss Overall: 2.0360e-02, PDE: 4.0866e-03, BC: 1.6050e-02, Data: 2.2275e-04 - Reynolds: 240.78526306152344\n",
      "Epoch 10000/20000 - Loss Overall: 1.7542e-02, PDE: 3.5758e-03, BC: 1.3744e-02, Data: 2.2296e-04 - Reynolds: 249.53982543945312\n",
      "Epoch 11000/20000 - Loss Overall: 1.3980e-02, PDE: 3.3906e-03, BC: 1.0331e-02, Data: 2.5810e-04 - Reynolds: 257.4029541015625\n",
      "Epoch 12000/20000 - Loss Overall: 1.1688e-02, PDE: 2.7048e-03, BC: 8.7202e-03, Data: 2.6330e-04 - Reynolds: 264.4378662109375\n",
      "Epoch 13000/20000 - Loss Overall: 9.6759e-03, PDE: 2.3648e-03, BC: 7.0692e-03, Data: 2.4193e-04 - Reynolds: 272.0261535644531\n",
      "Epoch 14000/20000 - Loss Overall: 1.2734e-02, PDE: 2.5959e-03, BC: 9.8567e-03, Data: 2.8115e-04 - Reynolds: 277.405029296875\n",
      "Epoch 15000/20000 - Loss Overall: 8.9560e-03, PDE: 1.9038e-03, BC: 6.8189e-03, Data: 2.3333e-04 - Reynolds: 278.49737548828125\n",
      "Epoch 16000/20000 - Loss Overall: 8.2342e-03, PDE: 1.6786e-03, BC: 6.3172e-03, Data: 2.3842e-04 - Reynolds: 276.1830749511719\n",
      "Epoch 17000/20000 - Loss Overall: 6.4152e-03, PDE: 1.5926e-03, BC: 4.6239e-03, Data: 1.9871e-04 - Reynolds: 272.9109802246094\n",
      "Epoch 18000/20000 - Loss Overall: 5.3254e-03, PDE: 1.2133e-03, BC: 3.9141e-03, Data: 1.9791e-04 - Reynolds: 267.95281982421875\n",
      "Epoch 19000/20000 - Loss Overall: 8.2364e-03, PDE: 1.1929e-03, BC: 6.8750e-03, Data: 1.6848e-04 - Reynolds: 261.0010986328125\n",
      "Epoch 20000/20000 - Loss Overall: 5.4182e-03, PDE: 1.0856e-03, BC: 4.1325e-03, Data: 2.0018e-04 - Reynolds: 253.32398986816406\n",
      "Reynolds value: 253.32398986816406\n",
      "Error on ground-truth mse_u: 0.0008560074130800938 | mse_v: 0.0004627668492057101 | mse_p: 0.004279489687837981\n",
      "------------------------------------------------------------\n",
      "Mesh size: 0.75 x 0.75\n"
     ]
    },
    {
     "data": {
      "application/vnd.jupyter.widget-view+json": {
       "model_id": "e539fad57cdd4d4e90896f84bd109762",
       "version_major": 2,
       "version_minor": 0
      },
      "text/plain": [
       "  0%|          | 0/20000 [00:00<?, ?it/s]"
      ]
     },
     "metadata": {},
     "output_type": "display_data"
    },
    {
     "name": "stdout",
     "output_type": "stream",
     "text": [
      "Epoch 1000/20000 - Loss Overall: 1.3185e-01, PDE: 1.4910e-02, BC: 1.0993e-01, Data: 7.0112e-03 - Reynolds: 77.99290466308594\n",
      "Epoch 2000/20000 - Loss Overall: 9.3722e-02, PDE: 1.3332e-02, BC: 7.5709e-02, Data: 4.6807e-03 - Reynolds: 122.2645263671875\n",
      "Epoch 3000/20000 - Loss Overall: 7.0461e-02, PDE: 1.3599e-02, BC: 5.2908e-02, Data: 3.9534e-03 - Reynolds: 169.52142333984375\n",
      "Epoch 4000/20000 - Loss Overall: 6.2447e-02, PDE: 1.4137e-02, BC: 4.5826e-02, Data: 2.4848e-03 - Reynolds: 225.6462860107422\n",
      "Epoch 5000/20000 - Loss Overall: 5.1180e-02, PDE: 1.3998e-02, BC: 3.5197e-02, Data: 1.9854e-03 - Reynolds: 292.1361389160156\n",
      "Epoch 6000/20000 - Loss Overall: 4.0118e-02, PDE: 9.9495e-03, BC: 2.8720e-02, Data: 1.4488e-03 - Reynolds: 369.08514404296875\n",
      "Epoch 7000/20000 - Loss Overall: 4.0620e-02, PDE: 8.5621e-03, BC: 3.0784e-02, Data: 1.2736e-03 - Reynolds: 456.4134521484375\n",
      "Epoch 8000/20000 - Loss Overall: 3.3674e-02, PDE: 8.0732e-03, BC: 2.4402e-02, Data: 1.1991e-03 - Reynolds: 552.4505004882812\n",
      "Epoch 9000/20000 - Loss Overall: 3.2860e-02, PDE: 7.7704e-03, BC: 2.3940e-02, Data: 1.1499e-03 - Reynolds: 657.9515991210938\n",
      "Epoch 10000/20000 - Loss Overall: 2.3233e-02, PDE: 6.4361e-03, BC: 1.5684e-02, Data: 1.1122e-03 - Reynolds: 775.6046142578125\n",
      "Epoch 11000/20000 - Loss Overall: 2.4807e-02, PDE: 5.7949e-03, BC: 1.7987e-02, Data: 1.0253e-03 - Reynolds: 910.0068969726562\n",
      "Epoch 12000/20000 - Loss Overall: 2.0839e-02, PDE: 5.5729e-03, BC: 1.4138e-02, Data: 1.1277e-03 - Reynolds: 1063.6024169921875\n",
      "Epoch 13000/20000 - Loss Overall: 1.7961e-02, PDE: 4.8488e-03, BC: 1.2013e-02, Data: 1.0996e-03 - Reynolds: 1235.9583740234375\n",
      "Epoch 14000/20000 - Loss Overall: 1.5449e-02, PDE: 4.4673e-03, BC: 9.9193e-03, Data: 1.0626e-03 - Reynolds: 1437.6510009765625\n",
      "Epoch 15000/20000 - Loss Overall: 1.4590e-02, PDE: 4.7036e-03, BC: 8.6612e-03, Data: 1.2253e-03 - Reynolds: 1663.475830078125\n",
      "Epoch 16000/20000 - Loss Overall: 1.6359e-02, PDE: 4.0333e-03, BC: 1.1072e-02, Data: 1.2544e-03 - Reynolds: 1913.3619384765625\n",
      "Epoch 17000/20000 - Loss Overall: 1.0988e-02, PDE: 3.5208e-03, BC: 6.2267e-03, Data: 1.2402e-03 - Reynolds: 2198.00439453125\n",
      "Epoch 18000/20000 - Loss Overall: 1.2138e-02, PDE: 3.3420e-03, BC: 7.6155e-03, Data: 1.1801e-03 - Reynolds: 2515.694091796875\n",
      "Epoch 19000/20000 - Loss Overall: 1.3631e-02, PDE: 3.1497e-03, BC: 9.1300e-03, Data: 1.3513e-03 - Reynolds: 2868.16845703125\n",
      "Epoch 20000/20000 - Loss Overall: 1.3058e-02, PDE: 3.4293e-03, BC: 8.3837e-03, Data: 1.2448e-03 - Reynolds: 3240.55126953125\n",
      "Reynolds value: 3240.55126953125\n",
      "Error on ground-truth mse_u: 0.005998141030661932 | mse_v: 0.002163305037206642 | mse_p: 0.009070588384383644\n"
     ]
    }
   ],
   "source": [
    "print(\"Reynolds parameter inverse problem with noisy data\")\n",
    "\n",
    "for mesh_size in mesh_size_list:\n",
    "    # Init\n",
    "    model = PINN_Module(model_parameters).to(device)\n",
    "    reynolds = nn.Parameter(torch.rand(1).to(device))\n",
    "    loss_fn = nn.MSELoss()\n",
    "    optimizer = torch.optim.Adam([\n",
    "        {'params': model.parameters(), 'lr': 1e-3},\n",
    "        {'params': reynolds, 'lr': 1}])\n",
    "\n",
    "    xy_data_mesh, labels_data_mesh = get_ds_data_mesh(pressure_raw_data, velocity_raw_data, mesh_size, 5)\n",
    "    labels_data_mesh = labels_data_mesh + \\\n",
    "        omega * np.max(labels_data_mesh, axis=0)[np.newaxis,:] * np.random.normal(size=(labels_data_mesh.shape))\n",
    "    X_data = torch.tensor(xy_data_mesh).float().to(device)\n",
    "    Y_data = torch.tensor(labels_data_mesh).float().to(device)\n",
    "\n",
    "    # Train\n",
    "    print(\"------------------------------------------------------------\")\n",
    "    print(f\"Mesh size: {mesh_size} x {mesh_size}\")\n",
    "    for epoch in tqdm(range(epochs)):\n",
    "        optimizer.zero_grad()\n",
    "        loss_pde, loss_bc, loss_data = train_step(model, loss_fn, X_pde, X_bc, X_bc_0, X_data, Y_data, reynolds)\n",
    "        loss_overall = loss_pde + loss_bc + loss_data\n",
    "        loss_overall.backward()\n",
    "        optimizer.step()\n",
    "        if (epoch+1) % (epochs / 20) == 0:\n",
    "            tqdm.write(f\"Epoch {epoch+1}/{epochs} - Loss Overall: {loss_overall.item():.4e}, \"\n",
    "                       f\"PDE: {loss_pde.item():.4e}, BC: {loss_bc.item():.4e}, Data: {loss_data.item():.4e} - \"\n",
    "                       f\"Reynolds: {abs_smooth_fun(reynolds).item()}\")\n",
    "    print(f\"Reynolds value: {abs_smooth_fun(reynolds).item()}\")\n",
    "    # Calculate error\n",
    "    model.train(False)\n",
    "    with torch.no_grad():\n",
    "        X_data = torch.tensor(xy_data_all).float().to(device)\n",
    "        output_data = model(X_data).cpu().numpy()\n",
    "    mse_u = mean_squared_error(output_data[:,0], labels_data_all[:,0])\n",
    "    mse_v = mean_squared_error(output_data[:,1], labels_data_all[:,1])\n",
    "    mse_p = mean_squared_error(output_data[:,2], labels_data_all[:,2])\n",
    "    print(f\"Error on ground-truth mse_u: {mse_u} | mse_v: {mse_v} | mse_p: {mse_p}\")\n",
    "\n",
    "    # Grafica sobre x=0.5\n",
    "    mask_x05 = np.where(xy_data_all[:, 0] == 0.5)\n",
    "    xy_data_x05 = xy_data_all[mask_x05]\n",
    "    labels_data_x05 = labels_data_all[mask_x05]\n",
    "    model.train(False)\n",
    "    with torch.no_grad():\n",
    "        X_data = torch.tensor(xy_data_x05).float().to(device)\n",
    "        output_data = model(X_data).cpu().numpy()\n",
    "    fig, ax = plt.subplots(1, 3, figsize=(20, 3))\n",
    "    for i, title in enumerate(['u', 'v', 'p']):\n",
    "        ax[i].plot(xy_data_x05[:,1], output_data[:,i], color='blue', label='Model')\n",
    "        ax[i].plot(xy_data_x05[:,1], labels_data_x05[:,i], color='green', label='Ground-Truth')\n",
    "        ax[i].set_xlabel('y')\n",
    "        ax[i].set_title(f\"{title} (x=0.5)\")\n",
    "        ax[i].legend()\n",
    "    plt.show()\n",
    "\n",
    "    # Grafica sobre y=0.5\n",
    "    mask_y05 = np.where(xy_data_all[:, 1] == 0.5)\n",
    "    xy_data_y05 = xy_data_all[mask_y05]\n",
    "    labels_data_y05 = labels_data_all[mask_y05]\n",
    "    model.train(False)\n",
    "    with torch.no_grad():\n",
    "        X_data = torch.tensor(xy_data_y05).float().to(device)\n",
    "        output_data = model(X_data).cpu().numpy()\n",
    "    fig, ax = plt.subplots(1, 3, figsize=(20, 3))\n",
    "    for i, title in enumerate(['u', 'v', 'p']):\n",
    "        ax[i].plot(xy_data_y05[:,0], output_data[:,i], color='blue', label='Model')\n",
    "        ax[i].plot(xy_data_y05[:,0], labels_data_y05[:,i], color='green', label='Ground-Truth')\n",
    "        ax[i].set_xlabel('x')\n",
    "        ax[i].set_title(f\"{title} (y=0.5)\")\n",
    "        ax[i].legend()\n",
    "    plt.show()"
   ]
  },
  {
   "cell_type": "markdown",
   "id": "ecf8c944-f1bc-447d-af12-780c7f575d92",
   "metadata": {},
   "source": [
    "### Conclusiones"
   ]
  },
  {
   "cell_type": "markdown",
   "id": "ddba7f35-b507-4b88-8e2a-cdc68951a3d8",
   "metadata": {},
   "source": [
    "- De lo observado, en determinados entrenamientos el valor obtenido del número de Reynolds se acercó al valor esperado. Se observa que el entrenamiento es muy sensible a mínimos locales y a las condiciones iniciales de los parámetros de la red, lo que impide que el modelo converga a valores estables.\n",
    "- Se estima que con una red mas grande y con mayor cantidad de epochs el valor del número de Reynolds se acercaría establemente al valor real.\n",
    "- Respecto a la distribución espacial de las muestras, se observa que si se toman valores mas separados, el entrenamiento converge más facilmente y a valores de Reynolds mas cercanos al esperado.\n",
    "- Respecto a la presencia de ruido, se observa que los valores obtenidos poseen mayor error y que la convergencia de la red a los valores de Reynolds esperados es de mayor dificultad."
   ]
  }
 ],
 "metadata": {
  "kernelspec": {
   "display_name": "Python 3 (ipykernel)",
   "language": "python",
   "name": "python3"
  },
  "language_info": {
   "codemirror_mode": {
    "name": "ipython",
    "version": 3
   },
   "file_extension": ".py",
   "mimetype": "text/x-python",
   "name": "python",
   "nbconvert_exporter": "python",
   "pygments_lexer": "ipython3",
   "version": "3.12.11"
  }
 },
 "nbformat": 4,
 "nbformat_minor": 5
}
